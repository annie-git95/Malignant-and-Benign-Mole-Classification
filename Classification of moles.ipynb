{
 "cells": [
  {
   "cell_type": "markdown",
   "metadata": {
    "colab_type": "text",
    "id": "25MbqoR1rZhi"
   },
   "source": [
    "# Classification of Benign and Malignant Moles"
   ]
  },
  {
   "cell_type": "markdown",
   "metadata": {
    "colab_type": "text",
    "id": "JaMEOcgprZhn"
   },
   "source": [
    "## Annie, Julia Bloom, Nabila Lotayef"
   ]
  },
  {
   "cell_type": "code",
   "execution_count": 10,
   "metadata": {
    "colab": {
     "base_uri": "https://localhost:8080/",
     "height": 137
    },
    "colab_type": "code",
    "id": "bjaIXItMrZhp",
    "outputId": "4406ee02-3652-4b1d-8cd1-023b8ff5150a"
   },
   "outputs": [
    {
     "name": "stdout",
     "output_type": "stream",
     "text": [
      "Go to this URL in a browser: https://accounts.google.com/o/oauth2/auth?client_id=947318989803-6bn6qk8qdgf4n4g3pfee6491hc0brc4i.apps.googleusercontent.com&redirect_uri=urn%3aietf%3awg%3aoauth%3a2.0%3aoob&response_type=code&scope=email%20https%3a%2f%2fwww.googleapis.com%2fauth%2fdocs.test%20https%3a%2f%2fwww.googleapis.com%2fauth%2fdrive%20https%3a%2f%2fwww.googleapis.com%2fauth%2fdrive.photos.readonly%20https%3a%2f%2fwww.googleapis.com%2fauth%2fpeopleapi.readonly\n",
      "\n",
      "Enter your authorization code:\n",
      "··········\n",
      "Mounted at /content/drive/\n",
      "Final-Project_AnnieBloomLotayef.ipynb  Preview\ttest_224  train_224\n"
     ]
    }
   ],
   "source": [
    "# import necessary packages\n",
    "from PIL import Image\n",
    "import pandas as pd\n",
    "import glob\n",
    "import os, sys\n",
    "import numpy as np\n",
    "import matplotlib.pyplot as plt\n",
    "from skimage import data, io, color\n",
    "import tensorflow as tf\n",
    "from tensorflow import keras\n",
    "from keras.preprocessing.image import ImageDataGenerator\n",
    "from keras.models import Sequential\n",
    "from keras.layers import Conv2D, MaxPooling2D\n",
    "from keras.layers import Activation, Dropout, Flatten, Dense\n",
    "from keras import backend as K\n",
    "from keras.utils import Sequence\n",
    "from keras.optimizers import SGD\n",
    "from PIL import Image, ImageFilter\n",
    "import random\n",
    "from scipy import ndarray\n",
    "import skimage as sk\n",
    "from skimage import transform\n",
    "from skimage import util\n",
    "from skimage import io\n",
    "import matplotlib.pyplot as plt\n",
    "\n",
    "from google.colab import drive\n",
    "drive.mount(\"/content/drive/\", force_remount=True)\n",
    "!ls \"/content/drive/My Drive/ML Project/\""
   ]
  },
  {
   "cell_type": "markdown",
   "metadata": {
    "colab_type": "text",
    "id": "XW7OhShxrZhy"
   },
   "source": [
    "## I. Image Pre-Processing: Augmentation"
   ]
  },
  {
   "cell_type": "markdown",
   "metadata": {
    "colab_type": "text",
    "id": "hsicVZINrZh0"
   },
   "source": [
    "Data source: https://www.isic-archive.com/#!/topWithHeader/onlyHeaderTop/gallery\n",
    "\n",
    "Using the filters, we selected images that were classified as Benign or Malignant, and had metadata available for both Family History of Melanoma and Personal History of Melanoma."
   ]
  },
  {
   "cell_type": "markdown",
   "metadata": {
    "colab_type": "text",
    "id": "_O1tz13nrZh1"
   },
   "source": [
    "Our dataset consisted of 1149 images of malignant moles and 348 images of malignant moles. The original images were very large in size, so we resized them to 150x150 pixels. We reserved 149 images from each class for our test set by simply taking the last 149 images in each set (since there was no reason to think the images were listed in any necessary order). In our train set, there remained 1000 benign images and 199 malignant. In order to achieve a more balanced training dataset, we performed manual image augmentation to create an additional 801 malignant images."
   ]
  },
  {
   "cell_type": "code",
   "execution_count": null,
   "metadata": {
    "colab": {},
    "colab_type": "code",
    "id": "hdN8TFNtrZh4"
   },
   "outputs": [],
   "source": [
    "# define functions for various transformations\n",
    "\n",
    "# create random rotation function\n",
    "def random_rotation(image_array: ndarray):\n",
    "    random_degree = random.uniform(-25, 25)\n",
    "    return sk.transform.rotate(image_array, random_degree)\n",
    "\n",
    "# create random noise function\n",
    "def random_noise(image_array: ndarray):\n",
    "    # add random noise to the image\n",
    "    return sk.util.random_noise(image_array)\n",
    "\n",
    "# create horizontal flip function\n",
    "def horizontal_flip(image_array: ndarray):\n",
    "    return image_array[:, ::-1]\n",
    "\n",
    "# build dictionary of all three transformation functions\n",
    "available_transformations = {\n",
    "    'rotate': random_rotation,\n",
    "    'noise': random_noise,\n",
    "    'horizontal_flip': horizontal_flip\n",
    "}\n",
    "\n",
    "# assign directories and number of augmented images desired\n",
    "\n",
    "# assign directories and number of augmented images desired\n",
    "folder_path =     '/content/drive/My Drive/ML Project/train_224/malignant'\n",
    " # where the images you want to augment are\n",
    "new_folder_path = '/content/drive/My Drive/ML Project/Preview' # save in a new folder first\n",
    "num_files_desired = 800 # number of images you want to generate / NOTE: use (Number desired - 1)\n",
    "\n",
    "# find all files paths from the folder\n",
    "images = [os.path.join(folder_path, f) for f in os.listdir(folder_path) if os.path.isfile(os.path.join(folder_path, f))]"
   ]
  },
  {
   "cell_type": "code",
   "execution_count": null,
   "metadata": {
    "colab": {},
    "colab_type": "code",
    "id": "dbwpftsmrZh-"
   },
   "outputs": [],
   "source": [
    "# create augmentation images\n",
    "num_generated_files = 0\n",
    "while num_generated_files <= num_files_desired:\n",
    "    image_path = random.choice(images) # randomly select an image\n",
    "    image_to_transform = sk.io.imread(image_path) # read the image\n",
    "    num_transformations_to_apply = random.randint(1, len(available_transformations)) # randomly apply transformations\n",
    "\n",
    "    num_transformations = 0\n",
    "    transformed_image = None\n",
    "    while num_transformations <= num_transformations_to_apply:\n",
    "        key = random.choice(list(available_transformations))\n",
    "        transformed_image = available_transformations[key](image_to_transform)\n",
    "        num_transformations += 1\n",
    "    new_file_path = '%s/augmented_image_%s.jpg' % (new_folder_path, num_generated_files)\n",
    "    io.imsave(new_file_path, transformed_image)\n",
    "    num_generated_files += 1"
   ]
  },
  {
   "cell_type": "markdown",
   "metadata": {
    "colab_type": "text",
    "id": "R41A6AiBrZiD"
   },
   "source": [
    "## II. Training and Testing Models"
   ]
  },
  {
   "cell_type": "markdown",
   "metadata": {
    "colab_type": "text",
    "id": "h5FNCbu8rZiF"
   },
   "source": [
    "### 1. Convolutional Neural Network - No Augmentation"
   ]
  },
  {
   "cell_type": "markdown",
   "metadata": {
    "colab_type": "text",
    "id": "QuVxiU6krZiG"
   },
   "source": [
    "We train a simple neural network with three layers on our train data, and validate on our test. We normalize the images and shuffle the training data prior to training. We found that the model performed was quickly subject to overfitting, and we were hesitant to rely on the results given the limited amount of data and with the understanding that deep learning methods generally perform better with larger amounts of data."
   ]
  },
  {
   "cell_type": "code",
   "execution_count": 12,
   "metadata": {
    "colab": {
     "base_uri": "https://localhost:8080/",
     "height": 50
    },
    "colab_type": "code",
    "id": "xCTaT8nArZiI",
    "outputId": "706eaae8-a42b-4916-b3a9-b798e38aff02"
   },
   "outputs": [
    {
     "name": "stdout",
     "output_type": "stream",
     "text": [
      "Found 2010 images belonging to 2 classes.\n",
      "Found 298 images belonging to 2 classes.\n"
     ]
    }
   ],
   "source": [
    "# assign variables/directories\n",
    "nb_train_samples = 2000\n",
    "nb_validation_samples = 298\n",
    "epochs = 20\n",
    "batch_size = 20\n",
    "img_width, img_height = 150, 150\n",
    "\n",
    "train_data_dir = '/content/drive/My Drive/ML Project/train_224' # train data - two subfolders (benign, malignant)\n",
    "validation_data_dir = '/content/drive/My Drive/ML Project/test_224' # test data - two subfolders (benign, malignant)  \n",
    "\n",
    "# create generators, normalizing the images\n",
    "train_datagen = ImageDataGenerator(rescale=1. / 255)\n",
    "\n",
    "test_datagen = ImageDataGenerator(rescale=1. / 255)\n",
    "\n",
    "train_generator = train_datagen.flow_from_directory(\n",
    "    train_data_dir,\n",
    "    shuffle=True, # shuffle data to prevent prediction of singular class\n",
    "    target_size=(img_height, img_width),\n",
    "    batch_size=batch_size,\n",
    "    class_mode='binary')\n",
    "\n",
    "validation_generator = test_datagen.flow_from_directory(\n",
    "    validation_data_dir,\n",
    "    shuffle=False,\n",
    "    target_size=(img_height, img_width),\n",
    "    batch_size=batch_size,\n",
    "    class_mode='binary')"
   ]
  },
  {
   "cell_type": "code",
   "execution_count": null,
   "metadata": {
    "colab": {},
    "colab_type": "code",
    "id": "dMRO4891rZiN",
    "outputId": "13e8b5ec-c651-49aa-ede4-4aac6795924f"
   },
   "outputs": [
    {
     "name": "stdout",
     "output_type": "stream",
     "text": [
      "Epoch 1/20\n",
      "100/100 [==============================] - 159s 2s/step - loss: 0.6127 - accuracy: 0.6700 - val_loss: 0.7922 - val_accuracy: 0.5159\n",
      "Epoch 2/20\n",
      "100/100 [==============================] - 163s 2s/step - loss: 0.5529 - accuracy: 0.6920 - val_loss: 0.7195 - val_accuracy: 0.5637\n",
      "Epoch 3/20\n",
      "100/100 [==============================] - 162s 2s/step - loss: 0.5146 - accuracy: 0.7325 - val_loss: 0.7665 - val_accuracy: 0.5692\n",
      "Epoch 4/20\n",
      "100/100 [==============================] - 163s 2s/step - loss: 0.4758 - accuracy: 0.7555 - val_loss: 0.6364 - val_accuracy: 0.6466\n",
      "Epoch 5/20\n",
      "100/100 [==============================] - 163s 2s/step - loss: 0.4477 - accuracy: 0.7755 - val_loss: 0.8406 - val_accuracy: 0.5660\n",
      "Epoch 6/20\n",
      "100/100 [==============================] - 159s 2s/step - loss: 0.4351 - accuracy: 0.7915 - val_loss: 0.8419 - val_accuracy: 0.5527\n",
      "Epoch 7/20\n",
      "100/100 [==============================] - 158s 2s/step - loss: 0.3976 - accuracy: 0.8095 - val_loss: 0.7860 - val_accuracy: 0.5655\n",
      "Epoch 8/20\n",
      "100/100 [==============================] - 159s 2s/step - loss: 0.3599 - accuracy: 0.8375 - val_loss: 0.8772 - val_accuracy: 0.5750\n",
      "Epoch 9/20\n",
      "100/100 [==============================] - 158s 2s/step - loss: 0.3484 - accuracy: 0.8385 - val_loss: 0.9670 - val_accuracy: 0.5751\n",
      "Epoch 10/20\n",
      "100/100 [==============================] - 155s 2s/step - loss: 0.3289 - accuracy: 0.8475 - val_loss: 1.0896 - val_accuracy: 0.5252\n",
      "Epoch 11/20\n",
      "100/100 [==============================] - 157s 2s/step - loss: 0.2724 - accuracy: 0.8790 - val_loss: 1.4978 - val_accuracy: 0.5652\n",
      "Epoch 12/20\n",
      "100/100 [==============================] - 154s 2s/step - loss: 0.2496 - accuracy: 0.8940 - val_loss: 1.4319 - val_accuracy: 0.5115\n",
      "Epoch 13/20\n",
      "100/100 [==============================] - 155s 2s/step - loss: 0.1978 - accuracy: 0.9155 - val_loss: 1.6207 - val_accuracy: 0.5149\n",
      "Epoch 14/20\n",
      "100/100 [==============================] - 155s 2s/step - loss: 0.1605 - accuracy: 0.9360 - val_loss: 1.9530 - val_accuracy: 0.5419\n",
      "Epoch 15/20\n",
      "100/100 [==============================] - 162s 2s/step - loss: 0.1699 - accuracy: 0.9330 - val_loss: 1.8431 - val_accuracy: 0.5311\n",
      "Epoch 16/20\n",
      "100/100 [==============================] - 161s 2s/step - loss: 0.1292 - accuracy: 0.9485 - val_loss: 2.1095 - val_accuracy: 0.5145\n",
      "Epoch 17/20\n",
      "100/100 [==============================] - 164s 2s/step - loss: 0.0838 - accuracy: 0.9700 - val_loss: 2.9362 - val_accuracy: 0.5552\n",
      "Epoch 18/20\n",
      "100/100 [==============================] - 168s 2s/step - loss: 0.0538 - accuracy: 0.9800 - val_loss: 2.6973 - val_accuracy: 0.5447\n",
      "Epoch 19/20\n",
      "100/100 [==============================] - 158s 2s/step - loss: 0.0499 - accuracy: 0.9820 - val_loss: 3.1974 - val_accuracy: 0.5150\n",
      "Epoch 20/20\n",
      "100/100 [==============================] - 163s 2s/step - loss: 0.0557 - accuracy: 0.9830 - val_loss: 2.8969 - val_accuracy: 0.5419\n"
     ]
    }
   ],
   "source": [
    "# import necessary packages\n",
    "from keras.preprocessing.image import ImageDataGenerator\n",
    "from tensorflow.keras.models import Sequential\n",
    "from tensorflow.keras.layers import Conv2D, MaxPooling2D\n",
    "from tensorflow.keras.layers import Activation, Dropout, Flatten, Dense\n",
    "from tensorflow.python.keras import backend as K\n",
    "from tensorflow.keras import backend\n",
    "from tensorflow.keras.optimizers import SGD\n",
    "\n",
    "if K.image_data_format() == 'channels_first':\n",
    "    input_shape = (3, img_width, img_height)\n",
    "else:\n",
    "    input_shape = (img_width, img_height, 3)\n",
    "\n",
    "# build and train model\n",
    "model = Sequential()\n",
    "model.add(Conv2D(32, (3, 3), input_shape=input_shape))\n",
    "model.add(Activation('relu'))\n",
    "model.add(MaxPooling2D(pool_size=(2, 2)))\n",
    "\n",
    "model.add(Conv2D(64, (3, 3)))\n",
    "model.add(Activation('relu'))\n",
    "model.add(MaxPooling2D(pool_size=(2, 2)))\n",
    "\n",
    "model.add(Conv2D(128, (3, 3)))\n",
    "model.add(Activation('relu'))\n",
    "model.add(MaxPooling2D(pool_size=(2, 2)))\n",
    "\n",
    "model.add(Flatten())\n",
    "model.add(Dense(128))\n",
    "model.add(Activation('relu'))\n",
    "model.add(Dense(1))\n",
    "model.add(Activation('sigmoid'))\n",
    "\n",
    "model.compile(loss='binary_crossentropy',\n",
    "              optimizer='Adam',\n",
    "              metrics=['accuracy'])\n",
    "\n",
    "model1 = model.fit_generator(\n",
    "            train_generator,\n",
    "            steps_per_epoch=(nb_train_samples // batch_size),\n",
    "            epochs=epochs,\n",
    "            validation_data=validation_generator,\n",
    "            validation_steps=nb_validation_samples)\n",
    "\n",
    "model.save_weights('model1.h5')"
   ]
  },
  {
   "cell_type": "code",
   "execution_count": null,
   "metadata": {
    "colab": {},
    "colab_type": "code",
    "id": "UyUU98gxrZiS",
    "outputId": "edefd179-e224-4f31-ffd7-da0b013adbab"
   },
   "outputs": [
    {
     "data": {
      "text/plain": [
       "<matplotlib.legend.Legend at 0x24800148788>"
      ]
     },
     "execution_count": 6,
     "metadata": {
      "tags": []
     },
     "output_type": "execute_result"
    },
    {
     "data": {
      "image/png": "[encoded data removed]",
      "text/plain": [
       "<Figure size 432x288 with 1 Axes>"
      ]
     },
     "metadata": {
      "needs_background": "light",
      "tags": []
     },
     "output_type": "display_data"
    },
    {
     "data": {
      "image/png": "[encoded data removed]",
      "text/plain": [
       "<Figure size 432x288 with 1 Axes>"
      ]
     },
     "metadata": {
      "needs_background": "light",
      "tags": []
     },
     "output_type": "display_data"
    }
   ],
   "source": [
    "acc = model1.history['accuracy']\n",
    "val_acc = model1.history['val_accuracy']\n",
    "loss = model1.history['loss']\n",
    "val_loss = model1.history['val_loss']\n",
    " \n",
    "epochs = range(len(acc))\n",
    "\n",
    "# plot accuracy\n",
    "plt.plot(epochs, acc, 'b', label='Training')\n",
    "plt.plot(epochs, val_acc, 'r', label='Test')\n",
    "plt.title('Training and Test Accuracy')\n",
    "plt.legend()\n",
    " \n",
    "plt.figure()\n",
    " \n",
    "# plot loss\n",
    "plt.plot(epochs, loss, 'b', label='Training')\n",
    "plt.plot(epochs, val_loss, 'r', label='Test')\n",
    "plt.title('Training and Test Loss')\n",
    "plt.legend()"
   ]
  },
  {
   "cell_type": "markdown",
   "metadata": {
    "colab_type": "text",
    "id": "YKqf29uqrZia"
   },
   "source": [
    "### 2. Convolutional Neural Network - with Real Time Augmentation"
   ]
  },
  {
   "cell_type": "markdown",
   "metadata": {
    "colab_type": "text",
    "id": "muFV1QwerZic"
   },
   "source": [
    "We use the same model as above, but use additional real-time augmentation. The results were poor, never breaking past ~60% validation accuracy, and ~80% accuracy on the training set, and incredibly variable with each run. This is despite testing various epochs (5, 10, 15, 20, 50, and 80), using various activation methods for each layer (softmax instead of sigmoid, selu instead of relu), adding regularizers, and adjusting the optimization method (Adam instead of SGD, adjusting the level of loss)."
   ]
  },
  {
   "cell_type": "code",
   "execution_count": null,
   "metadata": {
    "colab": {},
    "colab_type": "code",
    "id": "1YAhoOLirZie",
    "outputId": "6bea1e02-b2cb-4422-c9cc-57658ff89cb5"
   },
   "outputs": [
    {
     "name": "stdout",
     "output_type": "stream",
     "text": [
      "Found 2000 images belonging to 2 classes.\n",
      "Found 298 images belonging to 2 classes.\n"
     ]
    }
   ],
   "source": [
    "# assign variables/directories\n",
    "nb_train_samples = 2000\n",
    "nb_validation_samples = 298\n",
    "epochs = 20\n",
    "batch_size = 20\n",
    "img_width, img_height = 150, 150\n",
    "\n",
    "train_data_dir = 'C:/Users/nlotaye/Desktop/School/MSCA 31009/train'\n",
    "validation_data_dir = 'C:/Users/nlotaye/Desktop/School/MSCA 31009/test'   \n",
    "\n",
    "# create generators\n",
    "train_datagen = ImageDataGenerator(\n",
    "    rescale=1. / 255,\n",
    "    shear_range=0.2,\n",
    "    zoom_range=0.2,\n",
    "    vertical_flip=True,\n",
    "    width_shift_range=0.4,\n",
    "    height_shift_range=0.4)\n",
    "\n",
    "test_datagen = ImageDataGenerator(rescale=1. / 255)\n",
    "\n",
    "train_generator = train_datagen.flow_from_directory(\n",
    "    train_data_dir,\n",
    "    shuffle=True,\n",
    "    target_size=(img_height, img_width),\n",
    "    batch_size=batch_size,\n",
    "    class_mode='binary')\n",
    "\n",
    "validation_generator = test_datagen.flow_from_directory(\n",
    "    validation_data_dir,\n",
    "    shuffle=False,\n",
    "    target_size=(img_height, img_width),\n",
    "    batch_size=batch_size,\n",
    "    class_mode='binary')"
   ]
  },
  {
   "cell_type": "code",
   "execution_count": null,
   "metadata": {
    "colab": {},
    "colab_type": "code",
    "id": "UKMGSOzOrZij",
    "outputId": "1ed9f324-e7f5-422c-9a7a-04d4558e7e99"
   },
   "outputs": [
    {
     "name": "stdout",
     "output_type": "stream",
     "text": [
      "Epoch 1/20\n",
      "100/100 [==============================] - 163s 2s/step - loss: 0.6906 - accuracy: 0.5925 - val_loss: 0.7026 - val_accuracy: 0.5198\n",
      "Epoch 2/20\n",
      "100/100 [==============================] - 164s 2s/step - loss: 0.6003 - accuracy: 0.6370 - val_loss: 0.7018 - val_accuracy: 0.5130\n",
      "Epoch 3/20\n",
      "100/100 [==============================] - 161s 2s/step - loss: 0.6008 - accuracy: 0.6420 - val_loss: 0.7257 - val_accuracy: 0.5029\n",
      "Epoch 4/20\n",
      "100/100 [==============================] - 163s 2s/step - loss: 0.5971 - accuracy: 0.6445 - val_loss: 0.7698 - val_accuracy: 0.5098\n",
      "Epoch 5/20\n",
      "100/100 [==============================] - 161s 2s/step - loss: 0.6062 - accuracy: 0.6375 - val_loss: 0.7190 - val_accuracy: 0.4961\n",
      "Epoch 6/20\n",
      "100/100 [==============================] - 157s 2s/step - loss: 0.5956 - accuracy: 0.6375 - val_loss: 0.7074 - val_accuracy: 0.5098\n",
      "Epoch 7/20\n",
      "100/100 [==============================] - 162s 2s/step - loss: 0.5983 - accuracy: 0.6345 - val_loss: 0.7032 - val_accuracy: 0.5064\n",
      "Epoch 8/20\n",
      "100/100 [==============================] - 162s 2s/step - loss: 0.6017 - accuracy: 0.6430 - val_loss: 0.6957 - val_accuracy: 0.5096\n",
      "Epoch 9/20\n",
      "100/100 [==============================] - 162s 2s/step - loss: 0.6006 - accuracy: 0.6420 - val_loss: 0.7095 - val_accuracy: 0.5062\n",
      "Epoch 10/20\n",
      "100/100 [==============================] - 161s 2s/step - loss: 0.5922 - accuracy: 0.6445 - val_loss: 0.7374 - val_accuracy: 0.5029\n",
      "Epoch 11/20\n",
      "100/100 [==============================] - 159s 2s/step - loss: 0.5863 - accuracy: 0.6510 - val_loss: 0.6966 - val_accuracy: 0.5096\n",
      "Epoch 12/20\n",
      "100/100 [==============================] - 163s 2s/step - loss: 0.5907 - accuracy: 0.6440 - val_loss: 0.7035 - val_accuracy: 0.5164\n",
      "Epoch 13/20\n",
      "100/100 [==============================] - 157s 2s/step - loss: 0.5904 - accuracy: 0.6410 - val_loss: 0.7148 - val_accuracy: 0.5096\n",
      "Epoch 14/20\n",
      "100/100 [==============================] - 157s 2s/step - loss: 0.5862 - accuracy: 0.6500 - val_loss: 0.7147 - val_accuracy: 0.5096\n",
      "Epoch 15/20\n",
      "100/100 [==============================] - 159s 2s/step - loss: 0.5804 - accuracy: 0.6525 - val_loss: 0.7142 - val_accuracy: 0.5196\n",
      "Epoch 16/20\n",
      "100/100 [==============================] - 164s 2s/step - loss: 0.5993 - accuracy: 0.6500 - val_loss: 0.6936 - val_accuracy: 0.5198\n",
      "Epoch 17/20\n",
      "100/100 [==============================] - 160s 2s/step - loss: 0.5888 - accuracy: 0.6525 - val_loss: 0.6950 - val_accuracy: 0.5198\n",
      "Epoch 18/20\n",
      "100/100 [==============================] - 159s 2s/step - loss: 0.5866 - accuracy: 0.6520 - val_loss: 0.6885 - val_accuracy: 0.5358\n",
      "Epoch 19/20\n",
      "100/100 [==============================] - 158s 2s/step - loss: 0.5814 - accuracy: 0.6535 - val_loss: 0.7134 - val_accuracy: 0.5096\n",
      "Epoch 20/20\n",
      "100/100 [==============================] - 148s 1s/step - loss: 0.5654 - accuracy: 0.6765 - val_loss: 0.7269 - val_accuracy: 0.5530\n"
     ]
    }
   ],
   "source": [
    "# import necessary packages\n",
    "from keras.preprocessing.image import ImageDataGenerator\n",
    "from tensorflow.keras.models import Sequential\n",
    "from tensorflow.keras.layers import Conv2D, MaxPooling2D\n",
    "from tensorflow.keras.layers import Activation, Dropout, Flatten, Dense\n",
    "from tensorflow.python.keras import backend as K\n",
    "from tensorflow.keras import backend\n",
    "from tensorflow.keras.optimizers import SGD\n",
    "from keras import regularizers\n",
    "from keras.callbacks import EarlyStopping\n",
    "#keras.regularizers.l1(0.01)\n",
    "#keras.regularizers.l2(0.01)\n",
    "#keras.regularizers.l1_l2(l1=0.01, l2=0.01)\n",
    "\n",
    "if K.image_data_format() == 'channels_first':\n",
    "    input_shape = (3, img_width, img_height)\n",
    "else:\n",
    "    input_shape = (img_width, img_height, 3)\n",
    "    \n",
    "# early stopping function for longer epoch runs\n",
    "es = EarlyStopping(monitor='val_loss', mode='min', verbose=1, patience=5)\n",
    "\n",
    "# build and train model\n",
    "model = Sequential()\n",
    "model.add(Conv2D(32, (3, 3), input_shape=input_shape))\n",
    "model.add(Activation('relu'))\n",
    "model.add(MaxPooling2D(pool_size=(2, 2)))\n",
    "\n",
    "model.add(Conv2D(64, (3, 3)))\n",
    "model.add(Activation('relu'))\n",
    "model.add(MaxPooling2D(pool_size=(2, 2)))\n",
    "\n",
    "model.add(Conv2D(128, (3, 3)))\n",
    "#model.add(Conv2D(128, (3, 3), kernel_regularizer=regularizers.l2(0.01), bias_regularizer=regularizers.l2(0.01)))\n",
    "model.add(Activation('relu'))\n",
    "model.add(MaxPooling2D(pool_size=(2, 2)))\n",
    "\n",
    "model.add(Flatten())\n",
    "model.add(Dense(128))\n",
    "model.add(Activation('relu'))\n",
    "#model.add(Dropout(0.5))\n",
    "model.add(Dense(1))\n",
    "model.add(Activation('sigmoid'))\n",
    "\n",
    "model.compile(loss='binary_crossentropy',\n",
    "              optimizer='Adam',\n",
    "              metrics=['accuracy'])\n",
    "\n",
    "model2 = model.fit_generator(\n",
    "            train_generator,\n",
    "            steps_per_epoch=(nb_train_samples // batch_size),\n",
    "            epochs=epochs,\n",
    "            validation_data=validation_generator,\n",
    "            validation_steps=nb_validation_samples)\n",
    "            #callbacks=[es]\n",
    "\n",
    "model.save_weights('model2.h5')"
   ]
  },
  {
   "cell_type": "code",
   "execution_count": null,
   "metadata": {
    "colab": {},
    "colab_type": "code",
    "id": "U6qBqWWprZip",
    "outputId": "bac5a2ce-371a-495d-f195-918d7fe627a7"
   },
   "outputs": [
    {
     "data": {
      "text/plain": [
       "<matplotlib.legend.Legend at 0x248004a0a48>"
      ]
     },
     "execution_count": 9,
     "metadata": {
      "tags": []
     },
     "output_type": "execute_result"
    },
    {
     "data": {
      "image/png": "[encoded data removed]",
      "text/plain": [
       "<Figure size 432x288 with 1 Axes>"
      ]
     },
     "metadata": {
      "needs_background": "light",
      "tags": []
     },
     "output_type": "display_data"
    },
    {
     "data": {
      "image/png": "[encoded data removed]",
      "text/plain": [
       "<Figure size 432x288 with 1 Axes>"
      ]
     },
     "metadata": {
      "needs_background": "light",
      "tags": []
     },
     "output_type": "display_data"
    }
   ],
   "source": [
    "acc = model2.history['accuracy']\n",
    "val_acc = model2.history['val_accuracy']\n",
    "loss = model2.history['loss']\n",
    "val_loss = model2.history['val_loss']\n",
    " \n",
    "epochs = range(len(acc))\n",
    "\n",
    "# plot accuracy\n",
    "plt.plot(epochs, acc, 'b', label='Training')\n",
    "plt.plot(epochs, val_acc, 'r', label='Test')\n",
    "plt.title('Training and Test Accuracy')\n",
    "plt.legend()\n",
    " \n",
    "plt.figure()\n",
    " \n",
    "# plot loss\n",
    "plt.plot(epochs, loss, 'b', label='Training')\n",
    "plt.plot(epochs, val_loss, 'r', label='Test')\n",
    "plt.title('Training and Test Loss')\n",
    "plt.legend()"
   ]
  },
  {
   "cell_type": "markdown",
   "metadata": {
    "colab_type": "text",
    "id": "L8HaOLWXrZiu"
   },
   "source": [
    "### 2. Transfer Learning"
   ]
  },
  {
   "cell_type": "markdown",
   "metadata": {
    "colab_type": "text",
    "id": "t0BlhtSOrZiw"
   },
   "source": [
    "Given our limited dataset, we wanted to incorporate the images from the ImageNet dataset via the VGG16 and VGG19 pre-trained network."
   ]
  },
  {
   "cell_type": "code",
   "execution_count": null,
   "metadata": {
    "colab": {},
    "colab_type": "code",
    "id": "kThlFbYbrZiy"
   },
   "outputs": [],
   "source": [
    "# import necessary packages\n",
    "import os\n",
    "import glob\n",
    "\n",
    "from keras.applications.vgg16 import VGG16\n",
    "from keras.layers import Input, Flatten, Dense\n",
    "from keras.models import Model\n",
    "from keras.callbacks import ModelCheckpoint, EarlyStopping, ReduceLROnPlateau\n",
    "from keras.optimizers import adam\n",
    "from keras.preprocessing.image import ImageDataGenerator  "
   ]
  },
  {
   "cell_type": "code",
   "execution_count": 25,
   "metadata": {
    "colab": {
     "base_uri": "https://localhost:8080/",
     "height": 50
    },
    "colab_type": "code",
    "id": "Bhe72qRZrZi3",
    "outputId": "9a5b31cd-6275-45a9-fc9c-e00554a46457"
   },
   "outputs": [
    {
     "name": "stdout",
     "output_type": "stream",
     "text": [
      "Found 2010 images belonging to 2 classes.\n",
      "Found 298 images belonging to 2 classes.\n"
     ]
    }
   ],
   "source": [
    "# assign variables/directories\n",
    "num_classes = 2  \n",
    "batch_size = 20\n",
    "epochs = 20\n",
    "last_layer_classifier = num_classes - 1\n",
    "cl_mode = 'binary'\n",
    "nb_train_samples = 2000\n",
    "nb_validation_samples = 298\n",
    "classifier_loss = 'binary_crossentropy'\n",
    "img_width, img_height = 224, 224\n",
    "\n",
    "train_data_dir = '/content/drive/My Drive/ML Project/train_224' # train data - two subfolders (benign, malignant)\n",
    "validation_data_dir = '/content/drive/My Drive/ML Project/test_224' # test data - two subfolders (benign, malignant)  \n",
    "\n",
    "# create generators\n",
    "train_datagen = ImageDataGenerator(\n",
    "    rescale=1. / 255,\n",
    "    shear_range=0.2,\n",
    "    zoom_range=0.2,\n",
    "    vertical_flip=True,\n",
    "    width_shift_range=0.4,\n",
    "    height_shift_range=0.4)\n",
    "\n",
    "test_datagen = ImageDataGenerator(rescale=1. / 255)\n",
    "\n",
    "train_generator = train_datagen.flow_from_directory(\n",
    "    train_data_dir,\n",
    "    shuffle=True,\n",
    "    target_size=(img_height, img_width),\n",
    "    batch_size=batch_size,\n",
    "    class_mode='binary')\n",
    "\n",
    "validation_generator = test_datagen.flow_from_directory(\n",
    "    validation_data_dir,\n",
    "    shuffle=False,\n",
    "    target_size=(img_height, img_width),\n",
    "    batch_size=batch_size,\n",
    "    class_mode='binary')"
   ]
  },
  {
   "cell_type": "markdown",
   "metadata": {
    "colab_type": "text",
    "id": "N1o9oHrZGyd2"
   },
   "source": [
    "# **VGG 16 Architecture**"
   ]
  },
  {
   "cell_type": "code",
   "execution_count": 15,
   "metadata": {
    "colab": {
     "base_uri": "https://localhost:8080/",
     "height": 967
    },
    "colab_type": "code",
    "id": "nf2eOisPrZi9",
    "outputId": "cdba6fdc-e63f-453a-c38a-fa137b0e9671"
   },
   "outputs": [
    {
     "name": "stdout",
     "output_type": "stream",
     "text": [
      "Downloading data from https://github.com/fchollet/deep-learning-models/releases/download/v0.1/vgg16_weights_tf_dim_ordering_tf_kernels.h5\n",
      "553467904/553467096 [==============================] - 12s 0us/step\n",
      "Model: \"model_3\"\n",
      "_________________________________________________________________\n",
      "Layer (type)                 Output Shape              Param #   \n",
      "=================================================================\n",
      "input_4 (InputLayer)         (None, 224, 224, 3)       0         \n",
      "_________________________________________________________________\n",
      "block1_conv1 (Conv2D)        (None, 224, 224, 64)      1792      \n",
      "_________________________________________________________________\n",
      "block1_conv2 (Conv2D)        (None, 224, 224, 64)      36928     \n",
      "_________________________________________________________________\n",
      "block1_pool (MaxPooling2D)   (None, 112, 112, 64)      0         \n",
      "_________________________________________________________________\n",
      "block2_conv1 (Conv2D)        (None, 112, 112, 128)     73856     \n",
      "_________________________________________________________________\n",
      "block2_conv2 (Conv2D)        (None, 112, 112, 128)     147584    \n",
      "_________________________________________________________________\n",
      "block2_pool (MaxPooling2D)   (None, 56, 56, 128)       0         \n",
      "_________________________________________________________________\n",
      "block3_conv1 (Conv2D)        (None, 56, 56, 256)       295168    \n",
      "_________________________________________________________________\n",
      "block3_conv2 (Conv2D)        (None, 56, 56, 256)       590080    \n",
      "_________________________________________________________________\n",
      "block3_conv3 (Conv2D)        (None, 56, 56, 256)       590080    \n",
      "_________________________________________________________________\n",
      "block3_pool (MaxPooling2D)   (None, 28, 28, 256)       0         \n",
      "_________________________________________________________________\n",
      "block4_conv1 (Conv2D)        (None, 28, 28, 512)       1180160   \n",
      "_________________________________________________________________\n",
      "block4_conv2 (Conv2D)        (None, 28, 28, 512)       2359808   \n",
      "_________________________________________________________________\n",
      "block4_conv3 (Conv2D)        (None, 28, 28, 512)       2359808   \n",
      "_________________________________________________________________\n",
      "block4_pool (MaxPooling2D)   (None, 14, 14, 512)       0         \n",
      "_________________________________________________________________\n",
      "block5_conv1 (Conv2D)        (None, 14, 14, 512)       2359808   \n",
      "_________________________________________________________________\n",
      "block5_conv2 (Conv2D)        (None, 14, 14, 512)       2359808   \n",
      "_________________________________________________________________\n",
      "block5_conv3 (Conv2D)        (None, 14, 14, 512)       2359808   \n",
      "_________________________________________________________________\n",
      "block5_pool (MaxPooling2D)   (None, 7, 7, 512)         0         \n",
      "_________________________________________________________________\n",
      "flatten (Flatten)            (None, 25088)             0         \n",
      "_________________________________________________________________\n",
      "fc1 (Dense)                  (None, 4096)              102764544 \n",
      "_________________________________________________________________\n",
      "fc2 (Dense)                  (None, 4096)              16781312  \n",
      "_________________________________________________________________\n",
      "predictions (Dense)          (None, 1)                 4097      \n",
      "=================================================================\n",
      "Total params: 134,264,641\n",
      "Trainable params: 134,264,641\n",
      "Non-trainable params: 0\n",
      "_________________________________________________________________\n",
      "None\n"
     ]
    }
   ],
   "source": [
    "# suppress warnings\n",
    "import warnings\n",
    "warnings.filterwarnings(\"ignore\")\n",
    "\n",
    "# import VGG16 pre-trained network\n",
    "model = VGG16(weights='imagenet', include_top=True)\n",
    "x = Dense(last_layer_classifier, activation='softmax', name='predictions')(model.layers[-2].output)\n",
    "my_model = Model(input=model.input, output=x)\n",
    "print(my_model.summary())"
   ]
  },
  {
   "cell_type": "code",
   "execution_count": null,
   "metadata": {
    "colab": {},
    "colab_type": "code",
    "id": "XutQJRWIrZjD"
   },
   "outputs": [],
   "source": [
    "# define list of callbacks\n",
    "weight_name = 'image_classification_model_weights.h5'\n",
    "checkpoint = ModelCheckpoint(weight_name, monitor='val_loss', verbose=1, save_best_only=True, mode='min')\n",
    "early = EarlyStopping(monitor='val_loss', patience=8, verbose=1, mode='min')\n",
    "lr = ReduceLROnPlateau(monitor='val_loss', factor=0.1, patience=5, verbose=0, mode='auto', cooldown=0,\n",
    "                           min_lr=0.000000001)\n",
    "callbacks_list = [checkpoint, lr, early]"
   ]
  },
  {
   "cell_type": "code",
   "execution_count": 26,
   "metadata": {
    "colab": {
     "base_uri": "https://localhost:8080/",
     "height": 767
    },
    "colab_type": "code",
    "id": "xeE-DO7brZjI",
    "outputId": "712a4b50-a212-478f-f104-45f032a54499"
   },
   "outputs": [
    {
     "name": "stdout",
     "output_type": "stream",
     "text": [
      "Epoch 1/20\n",
      "100/100 [==============================] - 39s 387ms/step - loss: 8.0585 - acc: 0.4945 - val_loss: 8.4203 - val_acc: 0.4718\n",
      "\n",
      "Epoch 00001: val_loss did not improve from 7.62601\n",
      "Epoch 2/20\n",
      "100/100 [==============================] - 35s 353ms/step - loss: 7.9635 - acc: 0.5005 - val_loss: 8.0274 - val_acc: 0.4965\n",
      "\n",
      "Epoch 00002: val_loss did not improve from 7.62601\n",
      "Epoch 3/20\n",
      "100/100 [==============================] - 35s 348ms/step - loss: 8.0747 - acc: 0.4935 - val_loss: 7.6260 - val_acc: 0.5217\n",
      "\n",
      "Epoch 00003: val_loss did not improve from 7.62601\n",
      "Epoch 4/20\n",
      "100/100 [==============================] - 35s 353ms/step - loss: 7.9871 - acc: 0.4990 - val_loss: 8.4203 - val_acc: 0.4718\n",
      "\n",
      "Epoch 00004: val_loss did not improve from 7.62601\n",
      "Epoch 5/20\n",
      "100/100 [==============================] - 35s 349ms/step - loss: 7.9633 - acc: 0.5005 - val_loss: 8.0274 - val_acc: 0.4965\n",
      "\n",
      "Epoch 00005: val_loss did not improve from 7.62601\n",
      "Epoch 6/20\n",
      "100/100 [==============================] - 35s 348ms/step - loss: 8.0668 - acc: 0.4940 - val_loss: 7.6260 - val_acc: 0.5217\n",
      "\n",
      "Epoch 00006: val_loss did not improve from 7.62601\n",
      "Epoch 7/20\n",
      "100/100 [==============================] - 34s 345ms/step - loss: 7.9631 - acc: 0.5005 - val_loss: 8.4203 - val_acc: 0.4718\n",
      "\n",
      "Epoch 00007: val_loss did not improve from 7.62601\n",
      "Epoch 8/20\n",
      "100/100 [==============================] - 35s 345ms/step - loss: 8.0669 - acc: 0.4940 - val_loss: 8.0274 - val_acc: 0.4965\n",
      "\n",
      "Epoch 00008: val_loss did not improve from 7.62601\n",
      "Epoch 9/20\n",
      "100/100 [==============================] - 34s 343ms/step - loss: 7.8994 - acc: 0.5045 - val_loss: 7.6260 - val_acc: 0.5217\n",
      "\n",
      "Epoch 00009: val_loss did not improve from 7.62601\n",
      "Epoch 10/20\n",
      "100/100 [==============================] - 34s 341ms/step - loss: 8.0513 - acc: 0.4950 - val_loss: 8.4203 - val_acc: 0.4718\n",
      "\n",
      "Epoch 00010: val_loss did not improve from 7.62601\n",
      "Epoch 11/20\n",
      "100/100 [==============================] - 34s 343ms/step - loss: 8.0190 - acc: 0.4970 - val_loss: 8.0274 - val_acc: 0.4965\n",
      "\n",
      "Epoch 00011: val_loss did not improve from 7.62601\n",
      "Epoch 00011: early stopping\n"
     ]
    }
   ],
   "source": [
    "# build and train model\n",
    "from keras.optimizers import adam\n",
    "classifier_loss = 'binary_crossentropy'\n",
    "\n",
    "adam = adam(lr=0.001)\n",
    "my_model.compile(optimizer=adam, loss=classifier_loss, metrics=['accuracy'])\n",
    "history = my_model.fit_generator(train_generator, steps_per_epoch=(nb_train_samples // batch_size), epochs=epochs,\n",
    "                                                                     validation_data=validation_generator,\n",
    "                                                                     validation_steps=(nb_train_samples // batch_size),\n",
    "                                                                         callbacks=callbacks_list, shuffle=True,\n",
    "                                                                         verbose=1)"
   ]
  },
  {
   "cell_type": "code",
   "execution_count": 27,
   "metadata": {
    "colab": {
     "base_uri": "https://localhost:8080/",
     "height": 562
    },
    "colab_type": "code",
    "id": "7yAVlPdwsTkp",
    "outputId": "4a62c089-9536-4c9e-edfb-458498d9e80f"
   },
   "outputs": [
    {
     "data": {
      "text/plain": [
       "<matplotlib.legend.Legend at 0x7f7f5edabbe0>"
      ]
     },
     "execution_count": 27,
     "metadata": {
      "tags": []
     },
     "output_type": "execute_result"
    },
    {
     "data": {
      "image/png": "[encoded data removed]",
      "text/plain": [
       "<Figure size 432x288 with 1 Axes>"
      ]
     },
     "metadata": {
      "tags": []
     },
     "output_type": "display_data"
    },
    {
     "data": {
      "image/png": "[encoded data removed]",
      "text/plain": [
       "<Figure size 432x288 with 1 Axes>"
      ]
     },
     "metadata": {
      "tags": []
     },
     "output_type": "display_data"
    }
   ],
   "source": [
    "acc = history.history['acc']\n",
    "val_acc = history.history['val_acc']\n",
    "loss = history.history['loss']\n",
    "val_loss = history.history['val_loss']\n",
    " \n",
    "epochs = range(len(acc))\n",
    "\n",
    "# plot accuracy\n",
    "plt.plot(epochs, acc, 'b', label='Training')\n",
    "plt.plot(epochs, val_acc, 'r', label='Test')\n",
    "plt.title('Training and Test Accuracy')\n",
    "plt.legend()\n",
    " \n",
    "plt.figure()\n",
    " \n",
    "# plot loss\n",
    "plt.plot(epochs, loss, 'b', label='Training')\n",
    "plt.plot(epochs, val_loss, 'r', label='Test')\n",
    "plt.title('Training and Test Loss')\n",
    "plt.legend()"
   ]
  },
  {
   "cell_type": "markdown",
   "metadata": {
    "colab_type": "text",
    "id": "Np-MNEQ8HAYX"
   },
   "source": [
    "## **VGG 19 Architecture**"
   ]
  },
  {
   "cell_type": "code",
   "execution_count": 64,
   "metadata": {
    "colab": {
     "base_uri": "https://localhost:8080/",
     "height": 683
    },
    "colab_type": "code",
    "id": "i7deWbFVsbtg",
    "outputId": "d90a5a54-ad0f-4a3a-af85-89d8cd603e63"
   },
   "outputs": [
    {
     "name": "stdout",
     "output_type": "stream",
     "text": [
      "Epoch 1/10\n",
      "100/100 [==============================] - 38s 384ms/step - loss: 8.0110 - acc: 0.4975 - val_loss: 8.4203 - val_acc: 0.4718\n",
      "\n",
      "Epoch 00001: val_loss did not improve from 7.62601\n",
      "Epoch 2/10\n",
      "100/100 [==============================] - 34s 340ms/step - loss: 7.9713 - acc: 0.5000 - val_loss: 8.0274 - val_acc: 0.4965\n",
      "\n",
      "Epoch 00002: val_loss did not improve from 7.62601\n",
      "Epoch 3/10\n",
      "100/100 [==============================] - 34s 339ms/step - loss: 8.0906 - acc: 0.4925 - val_loss: 7.6260 - val_acc: 0.5217\n",
      "\n",
      "Epoch 00003: val_loss did not improve from 7.62601\n",
      "Epoch 4/10\n",
      "100/100 [==============================] - 34s 335ms/step - loss: 8.0429 - acc: 0.4955 - val_loss: 8.4203 - val_acc: 0.4718\n",
      "\n",
      "Epoch 00004: val_loss did not improve from 7.62601\n",
      "Epoch 5/10\n",
      "100/100 [==============================] - 34s 338ms/step - loss: 7.9392 - acc: 0.5020 - val_loss: 8.0274 - val_acc: 0.4965\n",
      "\n",
      "Epoch 00005: val_loss did not improve from 7.62601\n",
      "Epoch 6/10\n",
      "100/100 [==============================] - 33s 335ms/step - loss: 8.1384 - acc: 0.4895 - val_loss: 7.6260 - val_acc: 0.5217\n",
      "\n",
      "Epoch 00006: val_loss did not improve from 7.62601\n",
      "Epoch 7/10\n",
      "100/100 [==============================] - 33s 333ms/step - loss: 7.9073 - acc: 0.5040 - val_loss: 8.4203 - val_acc: 0.4718\n",
      "\n",
      "Epoch 00007: val_loss did not improve from 7.62601\n",
      "Epoch 8/10\n",
      "100/100 [==============================] - 33s 334ms/step - loss: 8.0030 - acc: 0.4980 - val_loss: 8.0274 - val_acc: 0.4965\n",
      "\n",
      "Epoch 00008: val_loss did not improve from 7.62601\n",
      "Epoch 9/10\n",
      "100/100 [==============================] - 33s 329ms/step - loss: 8.0509 - acc: 0.4950 - val_loss: 7.6260 - val_acc: 0.5217\n",
      "\n",
      "Epoch 00009: val_loss did not improve from 7.62601\n",
      "Epoch 10/10\n",
      "100/100 [==============================] - 34s 335ms/step - loss: 7.9632 - acc: 0.5005 - val_loss: 8.4203 - val_acc: 0.4718\n",
      "\n",
      "Epoch 00010: val_loss did not improve from 7.62601\n"
     ]
    }
   ],
   "source": [
    "from keras.applications.vgg19 import VGG19\n",
    "from keras.optimizers import SGD\n",
    "from keras.models import Sequential, Model \n",
    "classifier_loss = 'binary_crossentropy'\n",
    "\n",
    "model = VGG19(weights = \"imagenet\", include_top=False, input_shape = (img_width, img_height, 3))\n",
    "# Freeze the layers which you don't want to train.\n",
    "for layer in model.layers[:5]:\n",
    "    layer.trainable = False\n",
    "\n",
    "#Adding custom Layers \n",
    "x = model.output\n",
    "x = Flatten()(x)\n",
    "x = Dense(1024, activation=\"relu\")(x)\n",
    "x = Dropout(0.5)(x)\n",
    "x = Dense(1024, activation=\"relu\")(x)\n",
    "predictions = Dense(1, activation=\"softmax\")(x)\n",
    "\n",
    "# creating the final model \n",
    "model_final = Model(input = model.input, output = predictions)\n",
    "# compile the model \n",
    "model_final.compile(loss =classifier_loss, optimizer = SGD(lr=0.0001, momentum=0.9), metrics=[\"accuracy\"])\n",
    "\n",
    "# Train the model \n",
    "model_final=model_final.fit_generator(train_generator, steps_per_epoch=(nb_train_samples // batch_size), epochs=10,\n",
    "                                                                     validation_data=validation_generator,\n",
    "                                                                     validation_steps=(nb_train_samples // batch_size),\n",
    "                                                                         callbacks=callbacks_list, shuffle=True,\n",
    "                                                                         verbose=1)"
   ]
  },
  {
   "cell_type": "code",
   "execution_count": 65,
   "metadata": {
    "colab": {
     "base_uri": "https://localhost:8080/",
     "height": 562
    },
    "colab_type": "code",
    "id": "56RGmy39Fns-",
    "outputId": "1bacee74-9aa0-49a3-95fa-80134e06f272"
   },
   "outputs": [
    {
     "data": {
      "text/plain": [
       "<matplotlib.legend.Legend at 0x7f7eaddd7160>"
      ]
     },
     "execution_count": 65,
     "metadata": {
      "tags": []
     },
     "output_type": "execute_result"
    },
    {
     "data": {
      "image/png": "[encoded data removed]",
      "text/plain": [
       "<Figure size 432x288 with 1 Axes>"
      ]
     },
     "metadata": {
      "tags": []
     },
     "output_type": "display_data"
    },
    {
     "data": {
      "image/png": "[encoded data removed]",
      "text/plain": [
       "<Figure size 432x288 with 1 Axes>"
      ]
     },
     "metadata": {
      "tags": []
     },
     "output_type": "display_data"
    }
   ],
   "source": [
    "acc = model_final.history['acc']\n",
    "val_acc = model_final.history['val_acc']\n",
    "loss = model_final.history['loss']\n",
    "val_loss = model_final.history['val_loss']\n",
    " \n",
    "epochs = range(len(acc))\n",
    "\n",
    "# plot accuracy\n",
    "plt.plot(epochs, acc, 'b', label='Training')\n",
    "plt.plot(epochs, val_acc, 'r', label='Test')\n",
    "plt.title('Training and Test Accuracy')\n",
    "plt.legend()\n",
    " \n",
    "plt.figure()\n",
    " \n",
    "# plot loss\n",
    "plt.plot(epochs, loss, 'b', label='Training')\n",
    "plt.plot(epochs, val_loss, 'r', label='Test')\n",
    "plt.title('Training and Test Loss')\n",
    "plt.legend()"
   ]
  },
  {
   "cell_type": "markdown",
   "metadata": {
    "colab_type": "text",
    "id": "7wux1NZ4TeIu"
   },
   "source": [
    "## **VGG 16 with Conv layer** "
   ]
  },
  {
   "cell_type": "code",
   "execution_count": 59,
   "metadata": {
    "colab": {
     "base_uri": "https://localhost:8080/",
     "height": 483
    },
    "colab_type": "code",
    "id": "yzVeu4mc93tQ",
    "outputId": "16207566-c34f-4b64-8c88-63898c02eda0"
   },
   "outputs": [
    {
     "name": "stdout",
     "output_type": "stream",
     "text": [
      "Model: \"sequential_8\"\n",
      "_________________________________________________________________\n",
      "Layer (type)                 Output Shape              Param #   \n",
      "=================================================================\n",
      "conv2d_3 (Conv2D)            (None, 222, 222, 32)      896       \n",
      "_________________________________________________________________\n",
      "activation_2 (Activation)    (None, 222, 222, 32)      0         \n",
      "_________________________________________________________________\n",
      "max_pooling2d_2 (MaxPooling2 (None, 111, 111, 32)      0         \n",
      "_________________________________________________________________\n",
      "flatten_13 (Flatten)         (None, 394272)            0         \n",
      "_________________________________________________________________\n",
      "dense_30 (Dense)             (None, 128)               50466944  \n",
      "_________________________________________________________________\n",
      "activation_3 (Activation)    (None, 128)               0         \n",
      "_________________________________________________________________\n",
      "dense_31 (Dense)             (None, 1)                 129       \n",
      "_________________________________________________________________\n",
      "activation_4 (Activation)    (None, 1)                 0         \n",
      "_________________________________________________________________\n",
      "dropout_11 (Dropout)         (None, 1)                 0         \n",
      "_________________________________________________________________\n",
      "dense_32 (Dense)             (None, 1)                 2         \n",
      "=================================================================\n",
      "Total params: 50,467,971\n",
      "Trainable params: 50,467,971\n",
      "Non-trainable params: 0\n",
      "_________________________________________________________________\n"
     ]
    }
   ],
   "source": [
    "\n",
    "if K.image_data_format() == 'channels_first':\n",
    "    input_shape = (3, img_width, img_height)\n",
    "else:\n",
    "    input_shape = (img_width, img_height, 3)\n",
    "\n",
    "vgg_conv = VGG16(weights='imagenet', include_top=False, input_shape= (img_width, img_height, 3))\n",
    "\n",
    "for layer in vgg_conv.layers[:-4]:\n",
    "    layer.trainable = False\n",
    "    # Create the model\n",
    "model =Sequential() \n",
    "# Add the vgg convolutional base model\n",
    "model.add(vgg_conv) \n",
    "# Add new layers\n",
    "model.add(Flatten())\n",
    "model.add(Dense(1024, activation='relu'))\n",
    "\n",
    "\n",
    "# build and train model\n",
    "model = Sequential()\n",
    "model.add(Conv2D(32, (3, 3), input_shape=input_shape))\n",
    "model.add(Activation('relu'))\n",
    "model.add(MaxPooling2D(pool_size=(2, 2)))\n",
    "\n",
    "model.add(Flatten())\n",
    "model.add(Dense(128))\n",
    "model.add(Activation('relu'))\n",
    "model.add(Dense(1))\n",
    "model.add(Activation('sigmoid'))\n",
    "\n",
    "model.add(Dropout(0.5))\n",
    "model.add(Dense(1, activation='softmax'))\n",
    " \n",
    "# Show a summary of the model. Check the number of trainable parameters\n",
    "model.summary()\n",
    "\n"
   ]
  },
  {
   "cell_type": "code",
   "execution_count": 60,
   "metadata": {
    "colab": {
     "base_uri": "https://localhost:8080/",
     "height": 683
    },
    "colab_type": "code",
    "id": "d81TUJ6I-Qg6",
    "outputId": "8d43ad9b-1f25-49f2-bd01-2162352a134e"
   },
   "outputs": [
    {
     "name": "stdout",
     "output_type": "stream",
     "text": [
      "Epoch 1/10\n",
      "100/100 [==============================] - 39s 391ms/step - loss: 8.0188 - acc: 0.4970 - val_loss: 8.0762 - val_acc: 0.4934\n",
      "\n",
      "Epoch 00001: val_loss did not improve from 7.62601\n",
      "Epoch 2/10\n",
      "100/100 [==============================] - 36s 359ms/step - loss: 8.0748 - acc: 0.4935 - val_loss: 8.0789 - val_acc: 0.4932\n",
      "\n",
      "Epoch 00002: val_loss did not improve from 7.62601\n",
      "Epoch 3/10\n",
      "100/100 [==============================] - 36s 365ms/step - loss: 7.9873 - acc: 0.4990 - val_loss: 8.0789 - val_acc: 0.4932\n",
      "\n",
      "Epoch 00003: val_loss did not improve from 7.62601\n",
      "Epoch 4/10\n",
      "100/100 [==============================] - 36s 359ms/step - loss: 8.0189 - acc: 0.4970 - val_loss: 8.0520 - val_acc: 0.4949\n",
      "\n",
      "Epoch 00004: val_loss did not improve from 7.62601\n",
      "Epoch 5/10\n",
      "100/100 [==============================] - 36s 362ms/step - loss: 7.9473 - acc: 0.5015 - val_loss: 7.9712 - val_acc: 0.5000\n",
      "\n",
      "Epoch 00005: val_loss did not improve from 7.62601\n",
      "Epoch 6/10\n",
      "100/100 [==============================] - 36s 359ms/step - loss: 7.9949 - acc: 0.4985 - val_loss: 7.9712 - val_acc: 0.5000\n",
      "\n",
      "Epoch 00006: val_loss did not improve from 7.62601\n",
      "Epoch 7/10\n",
      "100/100 [==============================] - 36s 362ms/step - loss: 8.0667 - acc: 0.4940 - val_loss: 7.9712 - val_acc: 0.5000\n",
      "\n",
      "Epoch 00007: val_loss did not improve from 7.62601\n",
      "Epoch 8/10\n",
      "100/100 [==============================] - 36s 362ms/step - loss: 8.0190 - acc: 0.4970 - val_loss: 8.0223 - val_acc: 0.4968\n",
      "\n",
      "Epoch 00008: val_loss did not improve from 7.62601\n",
      "Epoch 9/10\n",
      "100/100 [==============================] - 36s 357ms/step - loss: 8.0190 - acc: 0.4970 - val_loss: 8.0789 - val_acc: 0.4932\n",
      "\n",
      "Epoch 00009: val_loss did not improve from 7.62601\n",
      "Epoch 10/10\n",
      "100/100 [==============================] - 36s 359ms/step - loss: 8.0110 - acc: 0.4975 - val_loss: 8.0789 - val_acc: 0.4932\n",
      "\n",
      "Epoch 00010: val_loss did not improve from 7.62601\n"
     ]
    }
   ],
   "source": [
    "from keras.optimizers import Adam\n",
    "\n",
    "# Save the model'\n",
    "\n",
    "model.compile(loss='binary_crossentropy',\n",
    "              optimizer=Adam(lr=0.001),\n",
    "              metrics=['accuracy'])\n",
    "\n",
    "vgg3 = model.fit_generator(\n",
    "            train_generator,\n",
    "            steps_per_epoch=(nb_train_samples // batch_size),\n",
    "            epochs=10,\n",
    "            validation_data=validation_generator,\n",
    "           validation_steps=nb_validation_samples,\n",
    "            callbacks=callbacks_list)\n",
    "\n",
    "model.save_weights('modeltransfer3.h5')\n"
   ]
  },
  {
   "cell_type": "code",
   "execution_count": 62,
   "metadata": {
    "colab": {
     "base_uri": "https://localhost:8080/",
     "height": 562
    },
    "colab_type": "code",
    "id": "wuMVSyE6_plR",
    "outputId": "f962a56a-a0bb-495f-9294-fa69624ac7af"
   },
   "outputs": [
    {
     "data": {
      "text/plain": [
       "<matplotlib.legend.Legend at 0x7f7f3617d278>"
      ]
     },
     "execution_count": 62,
     "metadata": {
      "tags": []
     },
     "output_type": "execute_result"
    },
    {
     "data": {
      "image/png": "[encoded data removed]",
      "text/plain": [
       "<Figure size 432x288 with 1 Axes>"
      ]
     },
     "metadata": {
      "tags": []
     },
     "output_type": "display_data"
    },
    {
     "data": {
      "image/png": "[encoded data removed]",
      "text/plain": [
       "<Figure size 432x288 with 1 Axes>"
      ]
     },
     "metadata": {
      "tags": []
     },
     "output_type": "display_data"
    }
   ],
   "source": [
    "acc = vgg3.history['acc']\n",
    "val_acc = vgg3.history['val_acc']\n",
    "loss = vgg3.history['loss']\n",
    "val_loss = vgg3.history['val_loss']\n",
    " \n",
    "epochs = range(len(acc))\n",
    "\n",
    "# plot accuracy\n",
    "plt.plot(epochs, acc, 'b', label='Training')\n",
    "plt.plot(epochs, val_acc, 'r', label='Test')\n",
    "plt.title('Training and Test Accuracy')\n",
    "plt.legend()\n",
    " \n",
    "plt.figure()\n",
    " \n",
    "# plot loss\n",
    "plt.plot(epochs, loss, 'b', label='Training')\n",
    "plt.plot(epochs, val_loss, 'r', label='Test')\n",
    "plt.title('Training and Test Loss')\n",
    "plt.legend()"
   ]
  },
  {
   "cell_type": "markdown",
   "metadata": {
    "colab_type": "text",
    "id": "3TbVuvRFXzue"
   },
   "source": [
    "We initially expected significantly improved results through transfer learning, so we did some initial research on the effect of transfer learning on medical image classification. We found multiple studies hypothesizing why transfer learning is less effective with the classification of medical images than natural images:\n",
    "While there is medical imaging data available within ImageNet, it is difficult to apply transfer learning to medical imaging because there are fundamental differences in data sizes, features and task specifications\n",
    " A performance evaluation on two large scale medical imaging tasks shows that surprisingly, transfer offers little benefit to performance, and simple, lightweight models can perform comparably to ImageNet architectures. Investigating the learned representations and features, we find that some of the differences from transfer learning are due to the over-parametrization of standard models rather than sophisticated feature reuse. \n"
   ]
  },
  {
   "cell_type": "markdown",
   "metadata": {
    "colab_type": "text",
    "id": "DPZNOz6IrZjN"
   },
   "source": [
    "### 3. Non-Image Data"
   ]
  },
  {
   "cell_type": "markdown",
   "metadata": {
    "colab_type": "text",
    "id": "lilDy3GTrZjO"
   },
   "source": [
    "We wanted to try a few models on the metadata features only, in order to understand their value within an image classification model. The first few steps outlined below show how we imported the .json files into a usable dataframe, then some data exploration and graphs. Then we move into the individual models (Logistic Regression, Random Forest, and SVM). Each model was built using GridSearchCV with 5 cross-validation samples."
   ]
  },
  {
   "cell_type": "code",
   "execution_count": null,
   "metadata": {
    "colab": {},
    "colab_type": "code",
    "id": "JHnxwjHMrZjQ"
   },
   "outputs": [],
   "source": [
    "# import necessary packages\n",
    "import os, json\n",
    "import pandas as pd\n",
    "import numpy as np\n",
    "from sklearn import metrics\n",
    "from sklearn.metrics import classification_report, confusion_matrix, roc_curve, auc\n",
    "from sklearn.metrics import mean_squared_error as MSE\n",
    "from sklearn.model_selection import cross_val_score\n",
    "import seaborn as sns\n",
    "from sklearn.model_selection import GridSearchCV"
   ]
  },
  {
   "cell_type": "code",
   "execution_count": null,
   "metadata": {
    "colab": {},
    "colab_type": "code",
    "id": "alKDKZCdrZjT",
    "outputId": "7868000c-ecf5-41b5-9240-8422266256f3"
   },
   "outputs": [
    {
     "data": {
      "text/html": [
       "<div>\n",
       "<style scoped>\n",
       "    .dataframe tbody tr th:only-of-type {\n",
       "        vertical-align: middle;\n",
       "    }\n",
       "\n",
       "    .dataframe tbody tr th {\n",
       "        vertical-align: top;\n",
       "    }\n",
       "\n",
       "    .dataframe thead th {\n",
       "        text-align: right;\n",
       "    }\n",
       "</style>\n",
       "<table border=\"1\" class=\"dataframe\">\n",
       "  <thead>\n",
       "    <tr style=\"text-align: right;\">\n",
       "      <th></th>\n",
       "      <th>Name</th>\n",
       "      <th>Benign_Malignant</th>\n",
       "      <th>Age</th>\n",
       "      <th>Sex</th>\n",
       "      <th>Family_History</th>\n",
       "      <th>Personal_History</th>\n",
       "      <th>Size</th>\n",
       "    </tr>\n",
       "  </thead>\n",
       "  <tbody>\n",
       "    <tr>\n",
       "      <th>0</th>\n",
       "      <td>ISIC_0010426</td>\n",
       "      <td>malignant</td>\n",
       "      <td>70</td>\n",
       "      <td>female</td>\n",
       "      <td>False</td>\n",
       "      <td>True</td>\n",
       "      <td>10.0</td>\n",
       "    </tr>\n",
       "    <tr>\n",
       "      <th>1</th>\n",
       "      <td>ISIC_0010099</td>\n",
       "      <td>benign</td>\n",
       "      <td>80</td>\n",
       "      <td>female</td>\n",
       "      <td>True</td>\n",
       "      <td>True</td>\n",
       "      <td>6.0</td>\n",
       "    </tr>\n",
       "    <tr>\n",
       "      <th>2</th>\n",
       "      <td>ISIC_0010133</td>\n",
       "      <td>benign</td>\n",
       "      <td>60</td>\n",
       "      <td>female</td>\n",
       "      <td>False</td>\n",
       "      <td>True</td>\n",
       "      <td>8.0</td>\n",
       "    </tr>\n",
       "    <tr>\n",
       "      <th>3</th>\n",
       "      <td>ISIC_0009938</td>\n",
       "      <td>benign</td>\n",
       "      <td>35</td>\n",
       "      <td>male</td>\n",
       "      <td>False</td>\n",
       "      <td>True</td>\n",
       "      <td>5.0</td>\n",
       "    </tr>\n",
       "    <tr>\n",
       "      <th>4</th>\n",
       "      <td>ISIC_0009892</td>\n",
       "      <td>benign</td>\n",
       "      <td>40</td>\n",
       "      <td>female</td>\n",
       "      <td>False</td>\n",
       "      <td>False</td>\n",
       "      <td>3.0</td>\n",
       "    </tr>\n",
       "  </tbody>\n",
       "</table>\n",
       "</div>"
      ],
      "text/plain": [
       "           Name Benign_Malignant Age     Sex Family_History Personal_History  \\\n",
       "0  ISIC_0010426        malignant  70  female          False             True   \n",
       "1  ISIC_0010099           benign  80  female           True             True   \n",
       "2  ISIC_0010133           benign  60  female          False             True   \n",
       "3  ISIC_0009938           benign  35    male          False             True   \n",
       "4  ISIC_0009892           benign  40  female          False            False   \n",
       "\n",
       "   Size  \n",
       "0  10.0  \n",
       "1   6.0  \n",
       "2   8.0  \n",
       "3   5.0  \n",
       "4   3.0  "
      ]
     },
     "execution_count": 4,
     "metadata": {
      "tags": []
     },
     "output_type": "execute_result"
    }
   ],
   "source": [
    "# import .json files and build dataframe\n",
    "path_to_json = '/Users/9048550/Desktop/json_files/'\n",
    "json_files = [pos_json for pos_json in os.listdir(path_to_json) if pos_json.endswith('.json')]\n",
    "\n",
    "jsons_data = pd.DataFrame(columns=['Name', 'Benign_Malignant', 'Age', 'Sex', 'Family_History', 'Personal_History', 'Size'])\n",
    "\n",
    "for index, js in enumerate(json_files):\n",
    "    with open(os.path.join(path_to_json, js)) as json_file:\n",
    "        json_text = json.load(json_file)\n",
    "        \n",
    "        Name = json_text['name']\n",
    "        Benign_Malignant = json_text['meta']['clinical']['benign_malignant']\n",
    "        Age = json_text['meta']['clinical']['age_approx']\n",
    "        Sex = json_text['meta']['clinical']['sex']\n",
    "        Family_History = json_text['meta']['clinical']['family_hx_mm']\n",
    "        Personal_History = json_text['meta']['clinical']['personal_hx_mm']\n",
    "        Size = json_text['meta']['clinical']['clin_size_long_diam_mm']\n",
    "        jsons_data.loc[index] = [Name, Benign_Malignant, Age, Sex, Family_History, Personal_History, Size]\n",
    "\n",
    "jsons_data.head()"
   ]
  },
  {
   "cell_type": "code",
   "execution_count": null,
   "metadata": {
    "colab": {},
    "colab_type": "code",
    "id": "LcTLiDhmrZjY",
    "outputId": "4439f870-5410-4218-d95b-d89baecbf207"
   },
   "outputs": [
    {
     "name": "stdout",
     "output_type": "stream",
     "text": [
      "<class 'pandas.core.frame.DataFrame'>\n",
      "Int64Index: 694 entries, 0 to 693\n",
      "Data columns (total 7 columns):\n",
      "Name                694 non-null object\n",
      "Benign_Malignant    694 non-null object\n",
      "Age                 694 non-null object\n",
      "Sex                 694 non-null object\n",
      "Family_History      694 non-null object\n",
      "Personal_History    694 non-null object\n",
      "Size                694 non-null float64\n",
      "dtypes: float64(1), object(6)\n",
      "memory usage: 43.4+ KB\n"
     ]
    }
   ],
   "source": [
    "# summarize and check for missing data\n",
    "jsons_data.info()"
   ]
  },
  {
   "cell_type": "code",
   "execution_count": null,
   "metadata": {
    "colab": {},
    "colab_type": "code",
    "id": "gpRvbDZ6rZjj",
    "outputId": "e12dcd38-be58-4aaa-c511-8e7f9b2f3b38"
   },
   "outputs": [
    {
     "data": {
      "text/plain": [
       "benign       347\n",
       "malignant    347\n",
       "Name: Benign_Malignant, dtype: int64"
      ]
     },
     "execution_count": 6,
     "metadata": {
      "tags": []
     },
     "output_type": "execute_result"
    }
   ],
   "source": [
    "# verify balanced dataset\n",
    "jsons_data['Benign_Malignant'].value_counts()"
   ]
  },
  {
   "cell_type": "code",
   "execution_count": null,
   "metadata": {
    "colab": {},
    "colab_type": "code",
    "id": "GF27cvY_rZjo",
    "outputId": "45132236-53b0-402c-8ba0-b17b92095042"
   },
   "outputs": [
    {
     "data": {
      "text/html": [
       "<div>\n",
       "<style scoped>\n",
       "    .dataframe tbody tr th:only-of-type {\n",
       "        vertical-align: middle;\n",
       "    }\n",
       "\n",
       "    .dataframe tbody tr th {\n",
       "        vertical-align: top;\n",
       "    }\n",
       "\n",
       "    .dataframe thead th {\n",
       "        text-align: right;\n",
       "    }\n",
       "</style>\n",
       "<table border=\"1\" class=\"dataframe\">\n",
       "  <thead>\n",
       "    <tr style=\"text-align: right;\">\n",
       "      <th></th>\n",
       "      <th>Age</th>\n",
       "      <th>female</th>\n",
       "      <th>Family_History</th>\n",
       "      <th>Personal_History</th>\n",
       "      <th>Size</th>\n",
       "      <th>malignant</th>\n",
       "      <th>malignant classifier</th>\n",
       "    </tr>\n",
       "    <tr>\n",
       "      <th>Name</th>\n",
       "      <th></th>\n",
       "      <th></th>\n",
       "      <th></th>\n",
       "      <th></th>\n",
       "      <th></th>\n",
       "      <th></th>\n",
       "      <th></th>\n",
       "    </tr>\n",
       "  </thead>\n",
       "  <tbody>\n",
       "    <tr>\n",
       "      <th>ISIC_0010426</th>\n",
       "      <td>70</td>\n",
       "      <td>1.0</td>\n",
       "      <td>0</td>\n",
       "      <td>1</td>\n",
       "      <td>10.0</td>\n",
       "      <td>1.0</td>\n",
       "      <td>NaN</td>\n",
       "    </tr>\n",
       "    <tr>\n",
       "      <th>ISIC_0010099</th>\n",
       "      <td>80</td>\n",
       "      <td>1.0</td>\n",
       "      <td>1</td>\n",
       "      <td>1</td>\n",
       "      <td>6.0</td>\n",
       "      <td>0.0</td>\n",
       "      <td>NaN</td>\n",
       "    </tr>\n",
       "    <tr>\n",
       "      <th>ISIC_0010133</th>\n",
       "      <td>60</td>\n",
       "      <td>1.0</td>\n",
       "      <td>0</td>\n",
       "      <td>1</td>\n",
       "      <td>8.0</td>\n",
       "      <td>0.0</td>\n",
       "      <td>NaN</td>\n",
       "    </tr>\n",
       "    <tr>\n",
       "      <th>ISIC_0009938</th>\n",
       "      <td>35</td>\n",
       "      <td>0.0</td>\n",
       "      <td>0</td>\n",
       "      <td>1</td>\n",
       "      <td>5.0</td>\n",
       "      <td>0.0</td>\n",
       "      <td>NaN</td>\n",
       "    </tr>\n",
       "    <tr>\n",
       "      <th>ISIC_0009892</th>\n",
       "      <td>40</td>\n",
       "      <td>1.0</td>\n",
       "      <td>0</td>\n",
       "      <td>0</td>\n",
       "      <td>3.0</td>\n",
       "      <td>0.0</td>\n",
       "      <td>NaN</td>\n",
       "    </tr>\n",
       "  </tbody>\n",
       "</table>\n",
       "</div>"
      ],
      "text/plain": [
       "             Age  female Family_History Personal_History  Size  malignant  \\\n",
       "Name                                                                        \n",
       "ISIC_0010426  70     1.0              0                1  10.0        1.0   \n",
       "ISIC_0010099  80     1.0              1                1   6.0        0.0   \n",
       "ISIC_0010133  60     1.0              0                1   8.0        0.0   \n",
       "ISIC_0009938  35     0.0              0                1   5.0        0.0   \n",
       "ISIC_0009892  40     1.0              0                0   3.0        0.0   \n",
       "\n",
       "              malignant classifier  \n",
       "Name                                \n",
       "ISIC_0010426                   NaN  \n",
       "ISIC_0010099                   NaN  \n",
       "ISIC_0010133                   NaN  \n",
       "ISIC_0009938                   NaN  \n",
       "ISIC_0009892                   NaN  "
      ]
     },
     "execution_count": 7,
     "metadata": {
      "tags": []
     },
     "output_type": "execute_result"
    }
   ],
   "source": [
    "# suppress warnings\n",
    "import warnings\n",
    "warnings.filterwarnings(\"ignore\")\n",
    "\n",
    "# clean the final dataframe (drop unnecessary columns, assign dummy variables, add classifier column)\n",
    "jsons_data['malignant'] = np.nan\n",
    "jsons_data.malignant[jsons_data.Benign_Malignant == 'malignant'] = 1\n",
    "jsons_data.malignant[jsons_data.Benign_Malignant == 'benign'] = 0\n",
    "\n",
    "jsons_data['female'] = np.nan\n",
    "jsons_data.female[jsons_data.Sex == 'female'] = 1\n",
    "jsons_data.female[jsons_data.Sex == 'male'] = 0\n",
    "\n",
    "jsons_data['Family_History'] = jsons_data['Family_History']*1\n",
    "jsons_data['Personal_History'] = jsons_data['Personal_History']*1\n",
    "\n",
    "jsons_data = jsons_data[['Name', 'Age', 'female', 'Family_History', 'Personal_History', 'Size', 'malignant']]\n",
    "\n",
    "jsons_data.set_index('Name', inplace=True)\n",
    "\n",
    "jsons_data['malignant classifier'] = np.nan\n",
    "\n",
    "jsons_data.head()"
   ]
  },
  {
   "cell_type": "code",
   "execution_count": null,
   "metadata": {
    "colab": {},
    "colab_type": "code",
    "id": "_L1nTFnsrZjs",
    "outputId": "272131b5-67d0-4268-816f-3debf772cf6c"
   },
   "outputs": [
    {
     "data": {
      "text/plain": [
       "count    694.000000\n",
       "mean      55.972622\n",
       "std       19.318044\n",
       "min        0.000000\n",
       "25%       45.000000\n",
       "50%       60.000000\n",
       "75%       70.000000\n",
       "max       85.000000\n",
       "Name: Age, dtype: float64"
      ]
     },
     "execution_count": 26,
     "metadata": {
      "tags": []
     },
     "output_type": "execute_result"
    }
   ],
   "source": [
    "# explore age feature\n",
    "jsons_data = jsons_data.astype({\"Age\":'int64'})\n",
    "jsons_data['Age'].describe()"
   ]
  },
  {
   "cell_type": "code",
   "execution_count": null,
   "metadata": {
    "colab": {},
    "colab_type": "code",
    "id": "QUJU-j2SrZjw",
    "outputId": "6d565992-2ceb-45fa-cc79-ac14327f0d73"
   },
   "outputs": [
    {
     "data": {
      "text/plain": [
       "count    694.000000\n",
       "mean       8.344380\n",
       "std        6.800504\n",
       "min        1.000000\n",
       "25%        5.000000\n",
       "50%        7.000000\n",
       "75%       10.000000\n",
       "max      100.000000\n",
       "Name: Size, dtype: float64"
      ]
     },
     "execution_count": 27,
     "metadata": {
      "tags": []
     },
     "output_type": "execute_result"
    }
   ],
   "source": [
    "# explore size feature \n",
    "jsons_data['Size'].describe()"
   ]
  },
  {
   "cell_type": "code",
   "execution_count": null,
   "metadata": {
    "colab": {},
    "colab_type": "code",
    "id": "syX6N47hrZj0",
    "outputId": "79b5977b-eb2c-46d4-f18d-96b8f5a5f7c4"
   },
   "outputs": [
    {
     "data": {
      "text/plain": [
       "0.0    381\n",
       "1.0    313\n",
       "Name: female, dtype: int64"
      ]
     },
     "execution_count": 29,
     "metadata": {
      "tags": []
     },
     "output_type": "execute_result"
    }
   ],
   "source": [
    "# explore gender split\n",
    "jsons_data['female'].value_counts()"
   ]
  },
  {
   "cell_type": "code",
   "execution_count": null,
   "metadata": {
    "colab": {},
    "colab_type": "code",
    "id": "TBZYkFrnrZj6",
    "outputId": "65c81c1e-8cb1-41ba-f80e-01702ccfbd27"
   },
   "outputs": [
    {
     "data": {
      "text/plain": [
       "0    580\n",
       "1    114\n",
       "Name: Family_History, dtype: int64"
      ]
     },
     "execution_count": 30,
     "metadata": {
      "tags": []
     },
     "output_type": "execute_result"
    }
   ],
   "source": [
    "# explore family history split\n",
    "jsons_data['Family_History'].value_counts()"
   ]
  },
  {
   "cell_type": "code",
   "execution_count": null,
   "metadata": {
    "colab": {},
    "colab_type": "code",
    "id": "nDuFwRyrrZj9",
    "outputId": "02f35c16-d96f-4923-ae63-24fd6ca63a86"
   },
   "outputs": [
    {
     "data": {
      "text/plain": [
       "0    461\n",
       "1    233\n",
       "Name: Personal_History, dtype: int64"
      ]
     },
     "execution_count": 31,
     "metadata": {
      "tags": []
     },
     "output_type": "execute_result"
    }
   ],
   "source": [
    "# explore personal history split\n",
    "jsons_data['Personal_History'].value_counts()"
   ]
  },
  {
   "cell_type": "code",
   "execution_count": null,
   "metadata": {
    "colab": {},
    "colab_type": "code",
    "id": "GahhQ2yCrZkC",
    "outputId": "30a02190-dbb3-4f65-974f-8f9f048be432"
   },
   "outputs": [
    {
     "data": {
      "image/png": "[encoded data removed]",
      "text/plain": [
       "<Figure size 720x288 with 2 Axes>"
      ]
     },
     "metadata": {
      "needs_background": "light",
      "tags": []
     },
     "output_type": "display_data"
    }
   ],
   "source": [
    "# plot distributions (sex and age)\n",
    "women = jsons_data[jsons_data['female']==1]\n",
    "men = jsons_data[jsons_data['female']==0]\n",
    "fig, axes = plt.subplots(nrows=1, ncols=2,figsize=(10, 4))\n",
    "\n",
    "ax = sns.distplot(women[women['malignant']==1].Age.dropna(), ax = axes[0], label='Malignant')\n",
    "ax = sns.distplot(women[women['malignant']==0].Age.dropna(),  ax = axes[0], label='Benign')\n",
    "ax.legend()\n",
    "ax.set_title('Female')\n",
    "ax = sns.distplot(men[men['malignant']==1].Age.dropna(), ax = axes[1], label='Malignant')\n",
    "ax = sns.distplot(men[men['malignant']==0].Age.dropna(), ax = axes[1], label='Benign')\n",
    "ax.legend()\n",
    "_ = ax.set_title('Male')"
   ]
  },
  {
   "cell_type": "code",
   "execution_count": null,
   "metadata": {
    "colab": {},
    "colab_type": "code",
    "id": "U0FsneTRrZkH",
    "outputId": "09473237-3335-45b6-adbc-d26f7b62cf86"
   },
   "outputs": [
    {
     "data": {
      "image/png": "[encoded data removed]",
      "text/plain": [
       "<Figure size 720x288 with 2 Axes>"
      ]
     },
     "metadata": {
      "needs_background": "light",
      "tags": []
     },
     "output_type": "display_data"
    }
   ],
   "source": [
    "# plot distributions (personal history and size)\n",
    "ph_0 = jsons_data[jsons_data['Personal_History']==0]\n",
    "ph_1 = jsons_data[jsons_data['Personal_History']==1]\n",
    "fig, axes = plt.subplots(nrows=1, ncols=2,figsize=(10, 4))\n",
    "\n",
    "ax = sns.distplot(ph_0[ph_0['malignant']==1].Size.dropna(), ax = axes[0], label='Malignant')\n",
    "ax = sns.distplot(ph_0[ph_0['malignant']==0].Size.dropna(),  ax = axes[0], label='Benign')\n",
    "ax.legend()\n",
    "ax.set_title('Personal History of Melanoma')\n",
    "ax = sns.distplot(ph_1[ph_1['malignant']==1].Size.dropna(), ax = axes[1], label='Malignant')\n",
    "ax = sns.distplot(ph_1[ph_1['malignant']==0].Size.dropna(), ax = axes[1], label='Benign')\n",
    "ax.legend()\n",
    "_ = ax.set_title('No Personal History of Melanoma')"
   ]
  },
  {
   "cell_type": "code",
   "execution_count": null,
   "metadata": {
    "colab": {},
    "colab_type": "code",
    "id": "EXe37iYQrZkL",
    "outputId": "6366468f-b6fc-4256-9a65-6c796856d354"
   },
   "outputs": [
    {
     "data": {
      "image/png": "[encoded data removed]",
      "text/plain": [
       "<Figure size 720x288 with 2 Axes>"
      ]
     },
     "metadata": {
      "needs_background": "light",
      "tags": []
     },
     "output_type": "display_data"
    }
   ],
   "source": [
    "# plot distributions (family history and size)\n",
    "fh_0 = jsons_data[jsons_data['Family_History']==0]\n",
    "fh_1 = jsons_data[jsons_data['Family_History']==1]\n",
    "fig, axes = plt.subplots(nrows=1, ncols=2,figsize=(10, 4))\n",
    "\n",
    "ax = sns.distplot(fh_0[fh_0['malignant']==1].Size.dropna(), ax = axes[0], label='Malignant')\n",
    "ax = sns.distplot(fh_0[fh_0['malignant']==0].Size.dropna(),  ax = axes[0], label='Benign')\n",
    "ax.legend()\n",
    "ax.set_title('Family History of Melanoma')\n",
    "ax = sns.distplot(fh_1[fh_1['malignant']==1].Size.dropna(), ax = axes[1], label='Malignant')\n",
    "ax = sns.distplot(fh_1[fh_1['malignant']==0].Size.dropna(), ax = axes[1], label='Benign')\n",
    "ax.legend()\n",
    "_ = ax.set_title('No Family History of Melanoma')"
   ]
  },
  {
   "cell_type": "code",
   "execution_count": null,
   "metadata": {
    "colab": {},
    "colab_type": "code",
    "id": "GF-mIOBRrZkS"
   },
   "outputs": [],
   "source": [
    "# select features\n",
    "feature_cols = ['Age', 'female', 'Family_History','Personal_History', 'Size']\n",
    "X = jsons_data[feature_cols] \n",
    "y = jsons_data['malignant'] \n",
    "seed=1000\n",
    "\n",
    "# split into test/train sets\n",
    "from sklearn.model_selection import train_test_split\n",
    "X_train,X_test,y_train,y_test=train_test_split(X,y,test_size=0.20, random_state=seed)"
   ]
  },
  {
   "cell_type": "markdown",
   "metadata": {
    "colab_type": "text",
    "id": "5pbgN9QxrZkY"
   },
   "source": [
    "### a. Logistic Regression"
   ]
  },
  {
   "cell_type": "code",
   "execution_count": null,
   "metadata": {
    "colab": {},
    "colab_type": "code",
    "id": "3l6_Ls-erZka",
    "outputId": "96029f32-8db6-4246-f9e9-cca16c4a2654"
   },
   "outputs": [
    {
     "name": "stdout",
     "output_type": "stream",
     "text": [
      "Logistic Regression Best Parameters:  {'C': 3.0, 'penalty': 'l2'}\n",
      "Logistic Regression Best Estimator:  LogisticRegression(C=3.0, class_weight=None, dual=False, fit_intercept=True,\n",
      "                   intercept_scaling=1, l1_ratio=None, max_iter=100,\n",
      "                   multi_class='warn', n_jobs=None, penalty='l2',\n",
      "                   random_state=None, solver='liblinear', tol=0.0001, verbose=0,\n",
      "                   warm_start=False)\n"
     ]
    }
   ],
   "source": [
    "# build logistic regression model\n",
    "from sklearn.linear_model import LogisticRegression\n",
    "\n",
    "param_grid = {'C': [0.01, 0.06, 0.08, 1., 3.], 'penalty': ['l1', 'l2']}\n",
    "lg = LogisticRegression(solver='liblinear')  \n",
    "lg_cv=GridSearchCV(lg,param_grid,cv=5)\n",
    "lg_cv.fit(X_train,y_train)\n",
    "\n",
    "lg = lg_cv.best_estimator_ \n",
    "lg.fit(X_train, y_train)  \n",
    "y_pred_lg = lg.predict(X_test)\n",
    "\n",
    "# print info about the best-performing model\n",
    "print(\"Logistic Regression Best Parameters: \",lg_cv.best_params_)\n",
    "print(\"Logistic Regression Best Estimator: \",lg_cv.best_estimator_)"
   ]
  },
  {
   "cell_type": "code",
   "execution_count": null,
   "metadata": {
    "colab": {},
    "colab_type": "code",
    "id": "gHJCAjeyrZkf",
    "outputId": "ec340e0e-adbe-4e23-fc47-54994838f759"
   },
   "outputs": [
    {
     "name": "stdout",
     "output_type": "stream",
     "text": [
      "Logistic Regression Accuracy: 0.7410071942446043\n",
      "Train RMSE of Logistic Regression: 0.49\n",
      "CV RMSE of Logistic Regression: 0.49\n",
      "Test set RMSE of Logistic Regression: 0.51\n"
     ]
    }
   ],
   "source": [
    "# evaluate accuracy, variance and bias issues\n",
    "\n",
    "# compute RSME of training set\n",
    "y_pred_lg_train = lg.predict(X_train)\n",
    "RMSE_train_lg = (MSE(y_train, y_pred_lg_train))**(1/2)\n",
    "\n",
    "# compute CV RMSE of training set\n",
    "MSE_CV_lg_scores = - cross_val_score(lg, X_train, y_train, cv=10, \n",
    "                                  scoring='neg_mean_squared_error', \n",
    "                                  n_jobs=-1) \n",
    "RMSE_CV_lg = (MSE_CV_lg_scores.mean())**(1/2)\n",
    "\n",
    "# compute RMSE of test set\n",
    "mse_lg = MSE(y_test, y_pred_lg)\n",
    "rmse_lg = mse_lg**(1/2)\n",
    "\n",
    "print(\"Logistic Regression Accuracy:\",metrics.accuracy_score(y_test, y_pred_lg))\n",
    "print('Train RMSE of Logistic Regression: {:.2f}'.format(RMSE_train_lg))\n",
    "print('CV RMSE of Logistic Regression: {:.2f}'.format(RMSE_CV_lg))\n",
    "print(\"Test set RMSE of Logistic Regression: {:.2f}\".format(rmse_lg))"
   ]
  },
  {
   "cell_type": "code",
   "execution_count": null,
   "metadata": {
    "colab": {},
    "colab_type": "code",
    "id": "YJPY13O7rZkk",
    "outputId": "08209b15-9034-4638-9a19-fe0e446faaee"
   },
   "outputs": [
    {
     "data": {
      "image/png": "[encoded data removed]",
      "text/plain": [
       "<Figure size 432x288 with 1 Axes>"
      ]
     },
     "metadata": {
      "needs_background": "light",
      "tags": []
     },
     "output_type": "display_data"
    }
   ],
   "source": [
    "# plot ROC curve\n",
    "import matplotlib.pyplot as plt\n",
    "y_pred_proba = lg.predict_proba(X_test)[::,1]\n",
    "fpr, tpr, _ = metrics.roc_curve(y_test, y_pred_proba)\n",
    "auc = metrics.roc_auc_score(y_test, y_pred_proba)\n",
    "plt.plot(fpr,tpr,label=\"data 1, auc=\"+str(auc))\n",
    "plt.legend(loc=4)\n",
    "plt.show()"
   ]
  },
  {
   "cell_type": "code",
   "execution_count": null,
   "metadata": {
    "colab": {},
    "colab_type": "code",
    "id": "tnlOOmVKrZkt",
    "outputId": "d3d5a4cd-ee77-46a2-b1fb-dd3b1c87939c"
   },
   "outputs": [
    {
     "name": "stdout",
     "output_type": "stream",
     "text": [
      "              precision    recall  f1-score   support\n",
      "\n",
      "         0.0       0.75      0.71      0.73        69\n",
      "         1.0       0.73      0.77      0.75        70\n",
      "\n",
      "    accuracy                           0.74       139\n",
      "   macro avg       0.74      0.74      0.74       139\n",
      "weighted avg       0.74      0.74      0.74       139\n",
      "\n"
     ]
    }
   ],
   "source": [
    "# print classification report\n",
    "print(classification_report(y_test, y_pred_lg))"
   ]
  },
  {
   "cell_type": "code",
   "execution_count": null,
   "metadata": {
    "colab": {},
    "colab_type": "code",
    "id": "5n3V874VrZky",
    "outputId": "d9269649-844a-43ac-c6c0-52351d3c87b0"
   },
   "outputs": [
    {
     "data": {
      "image/png": "[encoded data removed]",
      "text/plain": [
       "<Figure size 432x288 with 2 Axes>"
      ]
     },
     "metadata": {
      "needs_background": "light",
      "tags": []
     },
     "output_type": "display_data"
    }
   ],
   "source": [
    "# print confusion matrix\n",
    "cm = confusion_matrix(y_test, y_pred_lg)\n",
    "ax= plt.subplot()\n",
    "sns.heatmap(cm, annot=True, ax=ax, fmt='g'); \n",
    "ax.set_xlabel('Predicted Labels');ax.set_ylabel('True Labels'); \n",
    "ax.set_title('Confusion Matrix'); \n",
    "ax.xaxis.set_ticklabels(['benign', 'malignant']); ax.yaxis.set_ticklabels(['benign', 'malignant']);"
   ]
  },
  {
   "cell_type": "markdown",
   "metadata": {
    "colab_type": "text",
    "id": "JDs8h6y-rZk2"
   },
   "source": [
    "### b. Random Forest"
   ]
  },
  {
   "cell_type": "code",
   "execution_count": null,
   "metadata": {
    "colab": {},
    "colab_type": "code",
    "id": "f1SleXBDrZk4",
    "outputId": "7f7a3cf0-10c0-4cdd-e4b9-8018a5f88f9e"
   },
   "outputs": [
    {
     "name": "stdout",
     "output_type": "stream",
     "text": [
      "Random Forest Best Parameters:  {'max_depth': 2, 'n_estimators': 100}\n",
      "Random Forest Best Estimator:  RandomForestClassifier(bootstrap=True, class_weight=None, criterion='gini',\n",
      "                       max_depth=2, max_features='auto', max_leaf_nodes=None,\n",
      "                       min_impurity_decrease=0.0, min_impurity_split=None,\n",
      "                       min_samples_leaf=1, min_samples_split=2,\n",
      "                       min_weight_fraction_leaf=0.0, n_estimators=100,\n",
      "                       n_jobs=None, oob_score=False, random_state=1, verbose=0,\n",
      "                       warm_start=False)\n"
     ]
    }
   ],
   "source": [
    "# build random forest model\n",
    "from sklearn.ensemble import RandomForestClassifier\n",
    "seed=1\n",
    "\n",
    "param_grid = {'n_estimators': [20, 40, 60, 80, 100], 'max_depth': [2, 5, None]}\n",
    "rf=RandomForestClassifier(random_state=seed)\n",
    "rf_cv=GridSearchCV(rf,param_grid,cv=5)\n",
    "rf_cv.fit(X_train,y_train)\n",
    "\n",
    "rf = rf_cv.best_estimator_ \n",
    "rf.fit(X_train, y_train)  \n",
    "y_pred_rf = rf.predict(X_test)\n",
    "\n",
    "# print info about the best-performing model\n",
    "print(\"Random Forest Best Parameters: \",rf_cv.best_params_)\n",
    "print(\"Random Forest Best Estimator: \",rf_cv.best_estimator_)"
   ]
  },
  {
   "cell_type": "code",
   "execution_count": null,
   "metadata": {
    "colab": {},
    "colab_type": "code",
    "id": "dG4pzHM_rZk9",
    "outputId": "73780f70-4978-4ad4-fea4-6e82a64a6fed"
   },
   "outputs": [
    {
     "name": "stdout",
     "output_type": "stream",
     "text": [
      "Random Forest Accuracy: 0.762589928057554\n",
      "Train RMSE of Random Forest: 0.50\n",
      "CV RMSE of Random Forest: 0.53\n",
      "Test set RMSE of Random Forest: 0.49\n"
     ]
    }
   ],
   "source": [
    "# evaluate accuracy, variance and bias issues\n",
    "\n",
    "# compute RSME of training set\n",
    "y_pred_rf_train = rf.predict(X_train)\n",
    "RMSE_train_rf = (MSE(y_train, y_pred_rf_train))**(1/2)\n",
    "\n",
    "# compute CV RMSE of training set\n",
    "MSE_CV_rf_scores = - cross_val_score(rf, X_train, y_train, cv=10, \n",
    "                                  scoring='neg_mean_squared_error', \n",
    "                                  n_jobs=-1) \n",
    "RMSE_CV_rf = (MSE_CV_rf_scores.mean())**(1/2)\n",
    "\n",
    "# compute RMSE of test set\n",
    "mse_rf = MSE(y_test, y_pred_rf)\n",
    "rmse_rf = mse_rf**(1/2)\n",
    "\n",
    "print(\"Random Forest Accuracy:\",metrics.accuracy_score(y_test, y_pred_rf))\n",
    "print('Train RMSE of Random Forest: {:.2f}'.format(RMSE_train_rf))\n",
    "print('CV RMSE of Random Forest: {:.2f}'.format(RMSE_CV_rf))\n",
    "print(\"Test set RMSE of Random Forest: {:.2f}\".format(rmse_rf))"
   ]
  },
  {
   "cell_type": "code",
   "execution_count": null,
   "metadata": {
    "colab": {},
    "colab_type": "code",
    "id": "SpmgVLa1rZlC",
    "outputId": "9a093550-a47c-4cc0-9d28-eefcad5d2e5f"
   },
   "outputs": [
    {
     "data": {
      "image/png": "[encoded data removed]",
      "text/plain": [
       "<Figure size 432x288 with 1 Axes>"
      ]
     },
     "metadata": {
      "needs_background": "light",
      "tags": []
     },
     "output_type": "display_data"
    }
   ],
   "source": [
    "# plot ROC curve\n",
    "import matplotlib.pyplot as plt\n",
    "y_pred_proba = rf.predict_proba(X_test)[::,1]\n",
    "fpr, tpr, _ = metrics.roc_curve(y_test, y_pred_proba)\n",
    "auc = metrics.roc_auc_score(y_test, y_pred_proba)\n",
    "plt.plot(fpr,tpr,label=\"data 1, auc=\"+str(auc))\n",
    "plt.legend(loc=4)\n",
    "plt.show()"
   ]
  },
  {
   "cell_type": "code",
   "execution_count": null,
   "metadata": {
    "colab": {},
    "colab_type": "code",
    "id": "FNXFZyq7rZlH",
    "outputId": "86eded07-fa8e-4b13-eb90-8816e2cccbc7"
   },
   "outputs": [
    {
     "name": "stdout",
     "output_type": "stream",
     "text": [
      "              precision    recall  f1-score   support\n",
      "\n",
      "         0.0       0.78      0.72      0.75        69\n",
      "         1.0       0.75      0.80      0.77        70\n",
      "\n",
      "    accuracy                           0.76       139\n",
      "   macro avg       0.76      0.76      0.76       139\n",
      "weighted avg       0.76      0.76      0.76       139\n",
      "\n"
     ]
    }
   ],
   "source": [
    "# print classification report\n",
    "print(classification_report(y_test, y_pred_rf))"
   ]
  },
  {
   "cell_type": "code",
   "execution_count": null,
   "metadata": {
    "colab": {},
    "colab_type": "code",
    "id": "nj9P4g3mrZlN",
    "outputId": "8e8d1a5f-aa44-4314-de3f-61578ce521fb"
   },
   "outputs": [
    {
     "data": {
      "image/png": "[encoded data removed]",
      "text/plain": [
       "<Figure size 432x288 with 2 Axes>"
      ]
     },
     "metadata": {
      "needs_background": "light",
      "tags": []
     },
     "output_type": "display_data"
    }
   ],
   "source": [
    "# print confusion matrix\n",
    "cm = confusion_matrix(y_test, y_pred_rf)\n",
    "ax= plt.subplot()\n",
    "sns.heatmap(cm, annot=True, ax=ax, fmt='g'); \n",
    "ax.set_xlabel('Predicted Labels');ax.set_ylabel('True Labels'); \n",
    "ax.set_title('Confusion Matrix'); \n",
    "ax.xaxis.set_ticklabels(['benign', 'malignant']); ax.yaxis.set_ticklabels(['benign', 'malignant']);"
   ]
  },
  {
   "cell_type": "markdown",
   "metadata": {
    "colab_type": "text",
    "id": "jSqDw6uyrZlS"
   },
   "source": [
    "### c. SVM"
   ]
  },
  {
   "cell_type": "code",
   "execution_count": null,
   "metadata": {
    "colab": {},
    "colab_type": "code",
    "id": "FsjmPzqOrZlV",
    "outputId": "2b6e8afe-ce66-4340-baa1-03a1bef3776e"
   },
   "outputs": [
    {
     "name": "stdout",
     "output_type": "stream",
     "text": [
      "SVM Best Parameters:  {'C': 3.0, 'penalty': 'l2'}\n",
      "SVM Best Estimator:  LogisticRegression(C=3.0, class_weight=None, dual=False, fit_intercept=True,\n",
      "                   intercept_scaling=1, l1_ratio=None, max_iter=100,\n",
      "                   multi_class='warn', n_jobs=None, penalty='l2',\n",
      "                   random_state=None, solver='liblinear', tol=0.0001, verbose=0,\n",
      "                   warm_start=False)\n"
     ]
    }
   ],
   "source": [
    "# build SVM model\n",
    "from sklearn.svm import SVC \n",
    "\n",
    "param_grid = {'C': [0.01, 0.06, 0.08, 1., 3.], 'gamma': [0.01, 0.1, 1., 10., 100]}\n",
    "svm=SVC(kernel='rbf', probability=True)\n",
    "svm_cv=GridSearchCV(svm,param_grid,cv=5)\n",
    "svm_cv.fit(X_train,y_train)\n",
    "\n",
    "svm = svm_cv.best_estimator_ \n",
    "svm.fit(X_train, y_train)  \n",
    "y_pred_svm = svm.predict(X_test)\n",
    "\n",
    "# print info about the best-performing model\n",
    "print(\"SVM Best Parameters: \",lg_cv.best_params_)\n",
    "print(\"SVM Best Estimator: \",lg_cv.best_estimator_)"
   ]
  },
  {
   "cell_type": "code",
   "execution_count": null,
   "metadata": {
    "colab": {},
    "colab_type": "code",
    "id": "hPkDCokFrZlb",
    "outputId": "e74a8f75-6136-4931-c9de-7de08d890d25"
   },
   "outputs": [
    {
     "name": "stdout",
     "output_type": "stream",
     "text": [
      "SVM Accuracy: 0.7338129496402878\n",
      "Train RMSE of SVM: 0.49\n",
      "CV RMSE of SVM: 0.50\n",
      "Test set RMSE of SVM: 0.52\n"
     ]
    }
   ],
   "source": [
    "# evaluate accuracy, variance and bias issues\n",
    "\n",
    "# compute RSME of training set\n",
    "y_pred_svm_train = svm.predict(X_train)\n",
    "RMSE_train_svm = (MSE(y_train, y_pred_svm_train))**(1/2)\n",
    "\n",
    "# compute CV RMSE of training set\n",
    "MSE_CV_svm_scores = - cross_val_score(svm, X_train, y_train, cv=10, \n",
    "                                  scoring='neg_mean_squared_error', \n",
    "                                  n_jobs=-1) \n",
    "RMSE_CV_svm = (MSE_CV_svm_scores.mean())**(1/2)\n",
    "\n",
    "# compute RMSE of test set\n",
    "mse_svm = MSE(y_test, y_pred_svm)\n",
    "rmse_svm = mse_svm**(1/2)\n",
    "\n",
    "print(\"SVM Accuracy:\",metrics.accuracy_score(y_test, y_pred_svm))\n",
    "print('Train RMSE of SVM: {:.2f}'.format(RMSE_train_svm))\n",
    "print('CV RMSE of SVM: {:.2f}'.format(RMSE_CV_svm))\n",
    "print(\"Test set RMSE of SVM: {:.2f}\".format(rmse_svm))"
   ]
  },
  {
   "cell_type": "code",
   "execution_count": null,
   "metadata": {
    "colab": {},
    "colab_type": "code",
    "id": "opYGq2VorZlf",
    "outputId": "f5f198dd-7851-40be-c3cf-59513fa0d243"
   },
   "outputs": [
    {
     "data": {
      "image/png": "[encoded data removed]",
      "text/plain": [
       "<Figure size 432x288 with 1 Axes>"
      ]
     },
     "metadata": {
      "needs_background": "light",
      "tags": []
     },
     "output_type": "display_data"
    }
   ],
   "source": [
    "# plot ROC curve\n",
    "import matplotlib.pyplot as plt\n",
    "y_pred_proba = svm.predict_proba(X_test)[::,1]\n",
    "fpr, tpr, _ = metrics.roc_curve(y_test, y_pred_proba)\n",
    "auc = metrics.roc_auc_score(y_test, y_pred_proba)\n",
    "plt.plot(fpr,tpr,label=\"data 1, auc=\"+str(auc))\n",
    "plt.legend(loc=4)\n",
    "plt.show()"
   ]
  },
  {
   "cell_type": "code",
   "execution_count": null,
   "metadata": {
    "colab": {},
    "colab_type": "code",
    "id": "eupSSm72rZlj",
    "outputId": "ef14dfc4-9bb1-444e-ca8f-9f0b97b2e515"
   },
   "outputs": [
    {
     "name": "stdout",
     "output_type": "stream",
     "text": [
      "              precision    recall  f1-score   support\n",
      "\n",
      "         0.0       0.75      0.70      0.72        69\n",
      "         1.0       0.72      0.77      0.74        70\n",
      "\n",
      "    accuracy                           0.73       139\n",
      "   macro avg       0.73      0.73      0.73       139\n",
      "weighted avg       0.73      0.73      0.73       139\n",
      "\n"
     ]
    }
   ],
   "source": [
    "# print classification report\n",
    "print(classification_report(y_test, y_pred_svm))"
   ]
  },
  {
   "cell_type": "code",
   "execution_count": null,
   "metadata": {
    "colab": {},
    "colab_type": "code",
    "id": "7b5a1hcFrZlo",
    "outputId": "b992ded8-b53f-4bec-a3ab-60e29d52dac8"
   },
   "outputs": [
    {
     "data": {
      "image/png": "[encoded data removed]",
      "text/plain": [
       "<Figure size 432x288 with 2 Axes>"
      ]
     },
     "metadata": {
      "needs_background": "light",
      "tags": []
     },
     "output_type": "display_data"
    }
   ],
   "source": [
    "# print confusion matrix\n",
    "cm = confusion_matrix(y_test, y_pred_svm)\n",
    "ax= plt.subplot()\n",
    "sns.heatmap(cm, annot=True, ax=ax, fmt='g'); \n",
    "ax.set_xlabel('Predicted Labels');ax.set_ylabel('True Labels'); \n",
    "ax.set_title('Confusion Matrix'); \n",
    "ax.xaxis.set_ticklabels(['benign', 'malignant']); ax.yaxis.set_ticklabels(['benign', 'malignant']);"
   ]
  }
 ],
 "metadata": {
  "accelerator": "GPU",
  "colab": {
   "collapsed_sections": [
    "5pbgN9QxrZkY",
    "JDs8h6y-rZk2",
    "jSqDw6uyrZlS"
   ],
   "name": "Final-Project_AnnieBloomLotayef (1).ipynb",
   "provenance": []
  },
  "kernelspec": {
   "display_name": "Python 3",
   "language": "python",
   "name": "python3"
  },
  "language_info": {
   "codemirror_mode": {
    "name": "ipython",
    "version": 3
   },
   "file_extension": ".py",
   "mimetype": "text/x-python",
   "name": "python",
   "nbconvert_exporter": "python",
   "pygments_lexer": "ipython3",
   "version": "3.7.4"
  }
 },
 "nbformat": 4,
 "nbformat_minor": 4
}
